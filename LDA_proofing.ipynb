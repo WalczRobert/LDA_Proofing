{
 "cells": [
  {
   "cell_type": "markdown",
   "metadata": {},
   "source": [
    "## LDA is a probabilistic model to find cluster assignments for documents"
   ]
  },
  {
   "cell_type": "markdown",
   "metadata": {},
   "source": [
    "### Uses 2 probability values to cluster documents:\n",
    "### P(Word| topic) and P(topics| documents)"
   ]
  },
  {
   "cell_type": "code",
   "execution_count": 3,
   "metadata": {},
   "outputs": [
    {
     "name": "stdout",
     "output_type": "stream",
     "text": [
      "Done\n",
      "Requirement already satisfied: xlrd in /home/jupyterlab/conda/envs/python/lib/python3.6/site-packages (1.2.0)\n"
     ]
    }
   ],
   "source": [
    "import pandas as pd\n",
    "import matplotlib.pyplot as plt\n",
    "from sklearn.decomposition import LatentDirichletAllocation\n",
    "from sklearn.feature_extraction.text import CountVectorizer\n",
    "print('Done')\n",
    "!pip install xlrd"
   ]
  },
  {
   "cell_type": "code",
   "execution_count": 4,
   "metadata": {},
   "outputs": [
    {
     "name": "stdout",
     "output_type": "stream",
     "text": [
      "Done\n"
     ]
    }
   ],
   "source": [
    "headlines_df = pd.read_excel('ISG Evidence Package Report R4 12 5-1-19.xlsx')\n",
    "print('Done')"
   ]
  },
  {
   "cell_type": "code",
   "execution_count": 5,
   "metadata": {},
   "outputs": [
    {
     "data": {
      "text/plain": [
       "(46423, 27)"
      ]
     },
     "execution_count": 5,
     "metadata": {},
     "output_type": "execute_result"
    }
   ],
   "source": [
    "headlines_df.shape"
   ]
  },
  {
   "cell_type": "code",
   "execution_count": 6,
   "metadata": {},
   "outputs": [],
   "source": [
    "NUM_SAMPLES = 10000"
   ]
  },
  {
   "cell_type": "code",
   "execution_count": 7,
   "metadata": {},
   "outputs": [],
   "source": [
    "headlines_df = headlines_df.sample(NUM_SAMPLES, replace=False).reset_index(drop=True)"
   ]
  },
  {
   "cell_type": "code",
   "execution_count": 8,
   "metadata": {},
   "outputs": [
    {
     "data": {
      "text/html": [
       "<div>\n",
       "<style scoped>\n",
       "    .dataframe tbody tr th:only-of-type {\n",
       "        vertical-align: middle;\n",
       "    }\n",
       "\n",
       "    .dataframe tbody tr th {\n",
       "        vertical-align: top;\n",
       "    }\n",
       "\n",
       "    .dataframe thead th {\n",
       "        text-align: right;\n",
       "    }\n",
       "</style>\n",
       "<table border=\"1\" class=\"dataframe\">\n",
       "  <thead>\n",
       "    <tr style=\"text-align: right;\">\n",
       "      <th></th>\n",
       "      <th>Case Number</th>\n",
       "      <th>PIN</th>\n",
       "      <th>Call Status</th>\n",
       "      <th>Priority</th>\n",
       "      <th>NCCA Number - ALL</th>\n",
       "      <th>Last Analyst</th>\n",
       "      <th>Optional 1</th>\n",
       "      <th>Problem</th>\n",
       "      <th>Product Model</th>\n",
       "      <th>Functional Area</th>\n",
       "      <th>...</th>\n",
       "      <th>Date Created</th>\n",
       "      <th>Account Number</th>\n",
       "      <th>Name</th>\n",
       "      <th>Parent Dealer Account and Name</th>\n",
       "      <th>Well Prepared?</th>\n",
       "      <th>Reason</th>\n",
       "      <th>Classification</th>\n",
       "      <th>CC</th>\n",
       "      <th>CSC</th>\n",
       "      <th>Case Text</th>\n",
       "    </tr>\n",
       "  </thead>\n",
       "  <tbody>\n",
       "    <tr>\n",
       "      <th>0</th>\n",
       "      <td>DTAC-236777</td>\n",
       "      <td>PCGUPSA608116</td>\n",
       "      <td>Resolved-Dealer Closed</td>\n",
       "      <td>3-Report Only</td>\n",
       "      <td>12412437</td>\n",
       "      <td>Jeff D Solbrack</td>\n",
       "      <td>NaN</td>\n",
       "      <td>Non-specific System John Deere Message</td>\n",
       "      <td>AMS 4600/Generation 4/Display</td>\n",
       "      <td>Display Hardware</td>\n",
       "      <td>...</td>\n",
       "      <td>2018-08-27 11:42:40</td>\n",
       "      <td>078139</td>\n",
       "      <td>Pape Machinery, Inc.</td>\n",
       "      <td>078139Pape Machinery, Inc.</td>\n",
       "      <td>Yes</td>\n",
       "      <td>NaN</td>\n",
       "      <td>NaN</td>\n",
       "      <td>Customer/Dealer</td>\n",
       "      <td>Feature/Enhancement Request</td>\n",
       "      <td>Hello Jeff This case was tagged with a solutio...</td>\n",
       "    </tr>\n",
       "    <tr>\n",
       "      <th>1</th>\n",
       "      <td>DTAC-318650</td>\n",
       "      <td>xxxxxxxxxxxxxx</td>\n",
       "      <td>Resolved-Dealer Closed</td>\n",
       "      <td>2-Normal</td>\n",
       "      <td>NaN</td>\n",
       "      <td>Kyle D Bradley</td>\n",
       "      <td>NaN</td>\n",
       "      <td>MyJohnDeere - dealer was not able to finish ac...</td>\n",
       "      <td>AMS MyJohnDeere/Website-Dashboard/Information ...</td>\n",
       "      <td>Website UserMgmt</td>\n",
       "      <td>...</td>\n",
       "      <td>2018-10-22 13:33:34</td>\n",
       "      <td>045194</td>\n",
       "      <td>Western Equipment, L.L.C.</td>\n",
       "      <td>045194Western Equipment, L.L.C.</td>\n",
       "      <td>Yes</td>\n",
       "      <td>NaN</td>\n",
       "      <td>NaN</td>\n",
       "      <td>Customer/Dealer</td>\n",
       "      <td>Expectation/Performance</td>\n",
       "      <td>Cancelled merge, advised to check that email a...</td>\n",
       "    </tr>\n",
       "    <tr>\n",
       "      <th>2</th>\n",
       "      <td>DTAC-435177</td>\n",
       "      <td>xxxxxxxxxxxxx</td>\n",
       "      <td>Resolved-Completed</td>\n",
       "      <td>2-Normal</td>\n",
       "      <td>NaN</td>\n",
       "      <td>JASON  LEAR</td>\n",
       "      <td>NaN</td>\n",
       "      <td>Team Manager-customer account setup with deale...</td>\n",
       "      <td>Operations Center/Construction and Forestry - ...</td>\n",
       "      <td>Website Org Mgmt</td>\n",
       "      <td>...</td>\n",
       "      <td>2019-01-28 14:39:27</td>\n",
       "      <td>178821</td>\n",
       "      <td>Erb Equipment Co., Inc.</td>\n",
       "      <td>178821Erb Equipment Co., Inc.</td>\n",
       "      <td>NaN</td>\n",
       "      <td>Not Applicable</td>\n",
       "      <td>NaN</td>\n",
       "      <td>Customer/Dealer</td>\n",
       "      <td>Expectation/Performance</td>\n",
       "      <td>Product Model: Operations Center/Construction ...</td>\n",
       "    </tr>\n",
       "    <tr>\n",
       "      <th>3</th>\n",
       "      <td>16337601</td>\n",
       "      <td>NaN</td>\n",
       "      <td>Closed</td>\n",
       "      <td>3-Normal</td>\n",
       "      <td>NaN</td>\n",
       "      <td>Sensouk, Chan</td>\n",
       "      <td>NaN</td>\n",
       "      <td>MyJD account validation</td>\n",
       "      <td>AMS MyJohnDeere/Website-Dashboard/Information ...</td>\n",
       "      <td>Website UserMgmt</td>\n",
       "      <td>...</td>\n",
       "      <td>2018-05-03 12:03:00</td>\n",
       "      <td>900000</td>\n",
       "      <td>Unit 90 Test Dealership</td>\n",
       "      <td>900000 - Unit 90 Test Dealership</td>\n",
       "      <td>F</td>\n",
       "      <td>NaN</td>\n",
       "      <td>NaN</td>\n",
       "      <td>NaN</td>\n",
       "      <td>NaN</td>\n",
       "      <td>Sensouk, Chan, 03 May 2018 12:04 GMT Dealer Na...</td>\n",
       "    </tr>\n",
       "    <tr>\n",
       "      <th>4</th>\n",
       "      <td>DTAC-551762</td>\n",
       "      <td>RWGSIPA504942</td>\n",
       "      <td>Resolved-Dealer Closed</td>\n",
       "      <td>2-Normal</td>\n",
       "      <td>NaN</td>\n",
       "      <td>RUSS  WORSLEY</td>\n",
       "      <td>NaN</td>\n",
       "      <td>Replacement Activation Request</td>\n",
       "      <td>AMS StellarSupport/Website-Dashboard/Informati...</td>\n",
       "      <td>Website Application</td>\n",
       "      <td>...</td>\n",
       "      <td>2019-04-22 11:51:38</td>\n",
       "      <td>013966</td>\n",
       "      <td>SunSouth LLC</td>\n",
       "      <td>013966SunSouth LLC</td>\n",
       "      <td>NaN</td>\n",
       "      <td>Not Applicable</td>\n",
       "      <td>NaN</td>\n",
       "      <td>Activations</td>\n",
       "      <td>Activate</td>\n",
       "      <td>RWGSIPA5049424600 CommandCenterBasicsCommandCe...</td>\n",
       "    </tr>\n",
       "  </tbody>\n",
       "</table>\n",
       "<p>5 rows × 27 columns</p>\n",
       "</div>"
      ],
      "text/plain": [
       "   Case Number             PIN             Call Status       Priority  \\\n",
       "0  DTAC-236777   PCGUPSA608116  Resolved-Dealer Closed  3-Report Only   \n",
       "1  DTAC-318650  xxxxxxxxxxxxxx  Resolved-Dealer Closed       2-Normal   \n",
       "2  DTAC-435177   xxxxxxxxxxxxx      Resolved-Completed       2-Normal   \n",
       "3     16337601             NaN                  Closed       3-Normal   \n",
       "4  DTAC-551762   RWGSIPA504942  Resolved-Dealer Closed       2-Normal   \n",
       "\n",
       "  NCCA Number - ALL     Last Analyst Optional 1  \\\n",
       "0          12412437  Jeff D Solbrack        NaN   \n",
       "1               NaN   Kyle D Bradley        NaN   \n",
       "2               NaN      JASON  LEAR        NaN   \n",
       "3               NaN    Sensouk, Chan        NaN   \n",
       "4               NaN    RUSS  WORSLEY        NaN   \n",
       "\n",
       "                                             Problem  \\\n",
       "0             Non-specific System John Deere Message   \n",
       "1  MyJohnDeere - dealer was not able to finish ac...   \n",
       "2  Team Manager-customer account setup with deale...   \n",
       "3                           MyJD account validation    \n",
       "4                     Replacement Activation Request   \n",
       "\n",
       "                                       Product Model      Functional Area  \\\n",
       "0                      AMS 4600/Generation 4/Display     Display Hardware   \n",
       "1  AMS MyJohnDeere/Website-Dashboard/Information ...     Website UserMgmt   \n",
       "2  Operations Center/Construction and Forestry - ...     Website Org Mgmt   \n",
       "3  AMS MyJohnDeere/Website-Dashboard/Information ...     Website UserMgmt   \n",
       "4  AMS StellarSupport/Website-Dashboard/Informati...  Website Application   \n",
       "\n",
       "   ...        Date Created Account Number                       Name  \\\n",
       "0  ... 2018-08-27 11:42:40         078139       Pape Machinery, Inc.   \n",
       "1  ... 2018-10-22 13:33:34         045194  Western Equipment, L.L.C.   \n",
       "2  ... 2019-01-28 14:39:27         178821    Erb Equipment Co., Inc.   \n",
       "3  ... 2018-05-03 12:03:00         900000    Unit 90 Test Dealership   \n",
       "4  ... 2019-04-22 11:51:38         013966               SunSouth LLC   \n",
       "\n",
       "     Parent Dealer Account and Name Well Prepared?          Reason  \\\n",
       "0        078139Pape Machinery, Inc.            Yes             NaN   \n",
       "1   045194Western Equipment, L.L.C.            Yes             NaN   \n",
       "2     178821Erb Equipment Co., Inc.            NaN  Not Applicable   \n",
       "3  900000 - Unit 90 Test Dealership              F             NaN   \n",
       "4                013966SunSouth LLC            NaN  Not Applicable   \n",
       "\n",
       "  Classification               CC                          CSC  \\\n",
       "0            NaN  Customer/Dealer  Feature/Enhancement Request   \n",
       "1            NaN  Customer/Dealer      Expectation/Performance   \n",
       "2            NaN  Customer/Dealer      Expectation/Performance   \n",
       "3            NaN              NaN                          NaN   \n",
       "4            NaN      Activations                     Activate   \n",
       "\n",
       "                                           Case Text  \n",
       "0  Hello Jeff This case was tagged with a solutio...  \n",
       "1  Cancelled merge, advised to check that email a...  \n",
       "2  Product Model: Operations Center/Construction ...  \n",
       "3  Sensouk, Chan, 03 May 2018 12:04 GMT Dealer Na...  \n",
       "4  RWGSIPA5049424600 CommandCenterBasicsCommandCe...  \n",
       "\n",
       "[5 rows x 27 columns]"
      ]
     },
     "execution_count": 8,
     "metadata": {},
     "output_type": "execute_result"
    }
   ],
   "source": [
    "headlines_df.head(5)"
   ]
  },
  {
   "cell_type": "code",
   "execution_count": 9,
   "metadata": {},
   "outputs": [
    {
     "data": {
      "text/plain": [
       "0    Hello Jeff This case was tagged with a solutio...\n",
       "1    Cancelled merge, advised to check that email a...\n",
       "2    Product Model: Operations Center/Construction ...\n",
       "3    Sensouk, Chan, 03 May 2018 12:04 GMT Dealer Na...\n",
       "4    RWGSIPA5049424600 CommandCenterBasicsCommandCe...\n",
       "5    Product Model: JDLink Dashboard/Agriculture - ...\n",
       "6    Product Model: AMS 4600/Generation 4/DisplayFu...\n",
       "7    Product Model: AMS Apex/Desktop Software/Infor...\n",
       "8    This case was unable to be resolved, and has b...\n",
       "9    Dealer Name: KEITH RATHJEDealer Acct No: 06093...\n",
       "Name: Case Text, dtype: object"
      ]
     },
     "execution_count": 9,
     "metadata": {},
     "output_type": "execute_result"
    }
   ],
   "source": [
    "X = headlines_df[r'Case Text']\n",
    "X.head(10)"
   ]
  },
  {
   "cell_type": "code",
   "execution_count": 10,
   "metadata": {},
   "outputs": [],
   "source": [
    "count_vectorizer = CountVectorizer(ngram_range=(2,2))\n",
    "#transformed_vector = count_vectorizer.fit_transform(X)\n",
    "transformed_vector = count_vectorizer.fit_transform(headlines_df['Case Text'].values.astype('U'))"
   ]
  },
  {
   "cell_type": "code",
   "execution_count": 11,
   "metadata": {},
   "outputs": [
    {
     "data": {
      "text/plain": [
       "(10000, 357540)"
      ]
     },
     "execution_count": 11,
     "metadata": {},
     "output_type": "execute_result"
    }
   ],
   "source": [
    "transformed_vector.shape"
   ]
  },
  {
   "cell_type": "code",
   "execution_count": 12,
   "metadata": {},
   "outputs": [
    {
     "data": {
      "text/plain": [
       "['001 2854', '001 517233', '001 522394', '001 522976', '001 523436']"
      ]
     },
     "execution_count": 12,
     "metadata": {},
     "output_type": "execute_result"
    }
   ],
   "source": [
    "feature_names = count_vectorizer.get_feature_names()\n",
    "feature_names[200:205]"
   ]
  },
  {
   "cell_type": "code",
   "execution_count": 13,
   "metadata": {},
   "outputs": [
    {
     "name": "stdout",
     "output_type": "stream",
     "text": [
      "Done\n"
     ]
    }
   ],
   "source": [
    "NUM_TOPICS = 20\n",
    "lda_model = LatentDirichletAllocation(n_components=NUM_TOPICS, max_iter=20)\n",
    "lda= lda_model.fit_transform(transformed_vector)   \n",
    "print('Done')"
   ]
  },
  {
   "cell_type": "code",
   "execution_count": 14,
   "metadata": {},
   "outputs": [
    {
     "data": {
      "text/plain": [
       "(10000, 20)"
      ]
     },
     "execution_count": 14,
     "metadata": {},
     "output_type": "execute_result"
    }
   ],
   "source": [
    "lda.shape\n"
   ]
  },
  {
   "cell_type": "code",
   "execution_count": 15,
   "metadata": {},
   "outputs": [
    {
     "data": {
      "text/plain": [
       "array([[1.84501846e-04, 5.21559665e-03, 1.84501850e-04, 6.48519979e-01,\n",
       "        1.84501845e-04, 1.84501847e-04, 1.84501846e-04, 1.84501845e-04,\n",
       "        1.84501847e-04, 1.84501845e-04, 1.84501846e-04, 1.84501845e-04,\n",
       "        1.84501845e-04, 1.84501846e-04, 1.84501847e-04, 1.84501846e-04,\n",
       "        1.84501846e-04, 1.84501848e-04, 3.43127893e-01, 1.84501847e-04],\n",
       "       [2.13675215e-04, 2.13675216e-04, 2.13675215e-04, 1.69203491e-01,\n",
       "        3.54181899e-01, 2.13675215e-04, 2.13675222e-04, 2.13675215e-04,\n",
       "        2.13675217e-04, 2.13675214e-04, 2.13675214e-04, 2.13675216e-04,\n",
       "        2.13675218e-04, 2.13675215e-04, 2.13675218e-04, 4.72982132e-01,\n",
       "        2.13675216e-04, 2.13675218e-04, 2.13675220e-04, 2.13675216e-04]])"
      ]
     },
     "execution_count": 15,
     "metadata": {},
     "output_type": "execute_result"
    }
   ],
   "source": [
    "lda[:2]"
   ]
  },
  {
   "cell_type": "code",
   "execution_count": 16,
   "metadata": {},
   "outputs": [
    {
     "data": {
      "text/plain": [
       "0.9999999999999999"
      ]
     },
     "execution_count": 16,
     "metadata": {},
     "output_type": "execute_result"
    }
   ],
   "source": [
    "sum(lda[0])"
   ]
  },
  {
   "cell_type": "code",
   "execution_count": 18,
   "metadata": {},
   "outputs": [],
   "source": [
    "def print_topic (identifier,top_words=10):\n",
    "    for topic_id,topic_word_probs in enumerate(lda_model.components_): #how often a word oppears with topic\n",
    "        if topic_id == identifier:\n",
    "            print (\"Topic %d:\" % (topic_id))\n",
    "            top_feature_names = [feature_names[i] for i in topic_word_probs.argsort()[: -top_words -1 :-1]]\n",
    "            print (\" \".join(top_feature_names))"
   ]
  },
  {
   "cell_type": "code",
   "execution_count": 19,
   "metadata": {},
   "outputs": [
    {
     "name": "stdout",
     "output_type": "stream",
     "text": [
      "Topic 0:\n",
      "on the the machine to the\n",
      "Topic 1:\n",
      "on the in the to the\n",
      "Topic 2:\n",
      "at the pmjoel kaczynski the implement\n",
      "Topic 3:\n",
      "john deere the issue has been\n",
      "Topic 4:\n",
      "on the for the in the\n",
      "Topic 5:\n",
      "on the called in activation code\n",
      "Topic 6:\n",
      "stellar support the radar harvest lab\n",
      "Topic 7:\n",
      "product model act sub area act\n",
      "Topic 8:\n",
      "org name org number customer org\n",
      "Topic 9:\n",
      "acct no dealer xid support center\n",
      "Topic 10:\n",
      "to the on the base station\n",
      "Topic 11:\n",
      "thank you you for for contacting\n",
      "Topic 12:\n",
      "on the in the of the\n",
      "Topic 13:\n",
      "site code apex activation code apex\n"
     ]
    }
   ],
   "source": [
    "for i in range (14):\n",
    "    print_topic(i, top_words = 3)\n"
   ]
  },
  {
   "cell_type": "code",
   "execution_count": 20,
   "metadata": {},
   "outputs": [
    {
     "data": {
      "text/plain": [
       "<bound method NDFrame.head of       Case Number                PIN             Call Status       Priority  \\\n",
       "0     DTAC-234671    xxxxxxxxxxxxxxx      Resolved-Completed       2-Normal   \n",
       "1        16368942      PCAPEXG145965                  Closed       3-Normal   \n",
       "2        16369214      PCGT3TA552818                  Closed       3-Normal   \n",
       "3     DTAC-163798  1N04045RLE0006285  Resolved-System Closed       2-Normal   \n",
       "4     DTAC-203991    xxxxxxxxxxxxxxx       Resolved-DAClosed       2-Normal   \n",
       "...           ...                ...                     ...            ...   \n",
       "9995  DTAC-311063     re573045571636  Resolved-System Closed       2-Normal   \n",
       "9996  DTAC-285114      PCGUPSA655147      Resolved-Completed       2-Normal   \n",
       "9997  DTAC-311798      PCS161B872179  Resolved-System Closed  3-Report Only   \n",
       "9998  DTAC-272454      PCGU26H205021  Resolved-System Closed       2-Normal   \n",
       "9999  DTAC-151600  xxxxxxxxxxxxxxxxx      Resolved-Completed       2-Normal   \n",
       "\n",
       "     NCCA Number - ALL       Last Analyst Optional 1  \\\n",
       "0                  NaN      BRENT  AAMOTH        NaN   \n",
       "1                  NaN  Cheatem, Claudine        NaN   \n",
       "2                  NaN    Potochny, Chris        NaN   \n",
       "3                  NaN                NaN        NaN   \n",
       "4                  NaN     Justin  Garner        NaN   \n",
       "...                ...                ...        ...   \n",
       "9995               NaN                NaN        NaN   \n",
       "9996               NaN     COLTON  KREBER        NaN   \n",
       "9997               NaN                NaN        NaN   \n",
       "9998               NaN                NaN        NaN   \n",
       "9999               NaN    SAVANNAH  MOORE        NaN   \n",
       "\n",
       "                                                Problem  \\\n",
       "0                      dealer looking for sprtayer apps   \n",
       "1     APEX-transferred from sire code 7272582-t7g5q7...   \n",
       "2     SF3000 Receiver SF2 Subscription Activation In...   \n",
       "3                JDLink  dashboard - transfer terminals   \n",
       "4                       550K F2600 Activation Threshold   \n",
       "...                                                 ...   \n",
       "9995                   GS3 CCntr - Cannot get a GS3 tab   \n",
       "9996                   Gen4 4600 Prem 3.0 - 30 day demo   \n",
       "9997               StarFire 6000 not tracking correctly   \n",
       "9998                                   GS2 reactivation   \n",
       "9999  dealer has display that is not configure for m...   \n",
       "\n",
       "                                          Product Model       Functional Area  \\\n",
       "0                          AMS 2630/GreenStar 3/Display                 Setup   \n",
       "1      AMS APEX/Desktop Software/Information Management         Act/Sub/Offer   \n",
       "2               AMS StarFire 3000/StarFire/GPS Receiver         Act/Sub/Offer   \n",
       "3     JDLink Dashboard/Agriculture - Website/Informa...   Website Application   \n",
       "4     AMS StellarSupport/Website-Dashboard/Informati...   Website Application   \n",
       "...                                                 ...                   ...   \n",
       "9995      AMS Command Center/GS3 Command Center/Display    Funct/SW Interface   \n",
       "9996                      AMS 4600/Generation 4/Display         Act/Sub/Offer   \n",
       "9997            AMS StarFire 6000/StarFire/GPS Receiver  Optimize/Performance   \n",
       "9998                       AMS 2600/GreenStar 2/Display         Act/Sub/Offer   \n",
       "9999                       AMS 2630/GreenStar 3/Display    Funct/SW Interface   \n",
       "\n",
       "      ... Account Number                         Name  \\\n",
       "0     ...         018057                 SunSouth LLC   \n",
       "1     ...         900000      Unit 90 Test Dealership   \n",
       "2     ...         900000      Unit 90 Test Dealership   \n",
       "3     ...         059489  Sydenstricker Implement Co.   \n",
       "4     ...         179220    Five Star Equipment, Inc.   \n",
       "...   ...            ...                          ...   \n",
       "9995  ...         083635        C & B Operations, LLC   \n",
       "9996  ...         089576             Sinclair Tractor   \n",
       "9997  ...         234047                 EMMETTS (SA)   \n",
       "9998  ...         080570    Riesterer & Schnell, Inc.   \n",
       "9999  ...         013896                 SunSouth LLC   \n",
       "\n",
       "         Parent Dealer Account and Name Well Prepared?                Reason  \\\n",
       "0                    018057SunSouth LLC            Yes                   NaN   \n",
       "1      900000 - Unit 90 Test Dealership              F                   NaN   \n",
       "2      900000 - Unit 90 Test Dealership              F                   NaN   \n",
       "3     059489Sydenstricker Implement Co.            Yes                   NaN   \n",
       "4       179220Five Star Equipment, Inc.            Yes                    OK   \n",
       "...                                 ...            ...                   ...   \n",
       "9995        083635C & B Operations, LLC            Yes  Adequate preparation   \n",
       "9996             089576Sinclair Tractor            Yes                   NaN   \n",
       "9997                 234047EMMETTS (SA)            Yes                    na   \n",
       "9998    080570Riesterer & Schnell, Inc.            Yes                     B   \n",
       "9999                 013896SunSouth LLC            NaN        Not Applicable   \n",
       "\n",
       "             Classification               CC                      CSC  \\\n",
       "0                       NaN  Customer/Dealer                      NaN   \n",
       "1     15d - Normal Transfer              NaN                      NaN   \n",
       "2            15b - Activate              NaN                      NaN   \n",
       "3                       NaN  Customer/Dealer  Expectation/Performance   \n",
       "4                       NaN      Activations                 Activate   \n",
       "...                     ...              ...                      ...   \n",
       "9995                    NaN  Customer/Dealer  Expectation/Performance   \n",
       "9996                    NaN  Customer/Dealer  Expectation/Performance   \n",
       "9997                    NaN              NaN                      NaN   \n",
       "9998                    NaN      Activations                 Activate   \n",
       "9999                    NaN              NaN                      NaN   \n",
       "\n",
       "                                              Case Text topic  \n",
       "0     Dealer Name: Dealer Acct No: Customer User Id:...     9  \n",
       "1     Cheatem, Claudine, 29 May 2018 14:24 GMT Deale...     1  \n",
       "2     Potochny, Chris, 29 May 2018 16:50 GMT Dealer ...     9  \n",
       "3     Dealer Name: JEANA BANEDealer Acct No: 059489C...     8  \n",
       "4     Hi Justin,Unfortunately once JDLink comars hav...    12  \n",
       "...                                                 ...   ...  \n",
       "9995  Paul,Talking with my Tractor friends we determ...     1  \n",
       "9996  Product Model: AMS 4600/Generation 4/DisplayFu...     7  \n",
       "9997  NathanThank you for the update. Let us know th...    19  \n",
       "9998  Product Model: AMS 2600/GreenStar 2/DisplayFun...     7  \n",
       "9999  Dealer Name: STEPHEN TODDDealer Acct No: 01389...     9  \n",
       "\n",
       "[10000 rows x 28 columns]>"
      ]
     },
     "execution_count": 20,
     "metadata": {},
     "output_type": "execute_result"
    }
   ],
   "source": [
    "topics=[]\n",
    "for i in range(NUM_SAMPLES):\n",
    "    topics.append(lda[i].argmax()\n",
    "                 )\n",
    "headlines_df['topic'] = topics\n",
    "headlines_df.head"
   ]
  },
  {
   "cell_type": "markdown",
   "metadata": {},
   "source": [
    "## Manifold _ used for non linear data"
   ]
  },
  {
   "cell_type": "code",
   "execution_count": 21,
   "metadata": {},
   "outputs": [],
   "source": [
    "from sklearn.manifold import TSNE\n",
    "tsne = TSNE(n_components = 2, init='pca', random_state = 0)"
   ]
  },
  {
   "cell_type": "code",
   "execution_count": 22,
   "metadata": {},
   "outputs": [
    {
     "name": "stdout",
     "output_type": "stream",
     "text": [
      "done\n"
     ]
    }
   ],
   "source": [
    "lda_2d_tsne= tsne.fit_transform(lda)\n",
    "print('done')"
   ]
  },
  {
   "cell_type": "code",
   "execution_count": 23,
   "metadata": {},
   "outputs": [
    {
     "data": {
      "text/plain": [
       "(10000, 2)"
      ]
     },
     "execution_count": 23,
     "metadata": {},
     "output_type": "execute_result"
    }
   ],
   "source": [
    "lda_df_tsne = pd.DataFrame(lda_2d_tsne)\n",
    "lda_df_tsne.shape"
   ]
  },
  {
   "cell_type": "code",
   "execution_count": 24,
   "metadata": {},
   "outputs": [
    {
     "data": {
      "text/plain": [
       "<matplotlib.collections.PathCollection at 0x7f79da5c5b70>"
      ]
     },
     "execution_count": 24,
     "metadata": {},
     "output_type": "execute_result"
    },
    {
     "data": {
      "image/png": "[encoded data removed]",
      "text/plain": [
       "<Figure size 864x720 with 1 Axes>"
      ]
     },
     "metadata": {
      "needs_background": "light"
     },
     "output_type": "display_data"
    }
   ],
   "source": [
    "plt.subplots(figsize = (12,10))\n",
    "plt.axis('equal');\n",
    "plt.scatter(lda_df_tsne[0], lda_df_tsne[1], c=headlines_df['topic'],cmap=plt.cm.Spectral)"
   ]
  },
  {
   "cell_type": "markdown",
   "metadata": {},
   "source": [
    "## PYLDAVIS"
   ]
  },
  {
   "cell_type": "code",
   "execution_count": 23,
   "metadata": {},
   "outputs": [
    {
     "name": "stdout",
     "output_type": "stream",
     "text": [
      "Done\n"
     ]
    }
   ],
   "source": [
    "#dbpedia_df = pd.read_excel('ISG Evidence Package Report R4 12 5-1-19.xlsx', columns=['Case Number', 'Product Model', 'Case Text'])\n",
    "dbpedia_df = pd.read_excel('ISG Evidence Package Report R4 12 5-1-19.xlsx',usecols=[0,8,26])\n",
    "print('Done')"
   ]
  },
  {
   "cell_type": "code",
   "execution_count": 24,
   "metadata": {},
   "outputs": [
    {
     "data": {
      "text/plain": [
       "139269"
      ]
     },
     "execution_count": 24,
     "metadata": {},
     "output_type": "execute_result"
    }
   ],
   "source": [
    "dbpedia_df.size\n"
   ]
  },
  {
   "cell_type": "code",
   "execution_count": 25,
   "metadata": {},
   "outputs": [
    {
     "data": {
      "text/html": [
       "<div>\n",
       "<style scoped>\n",
       "    .dataframe tbody tr th:only-of-type {\n",
       "        vertical-align: middle;\n",
       "    }\n",
       "\n",
       "    .dataframe tbody tr th {\n",
       "        vertical-align: top;\n",
       "    }\n",
       "\n",
       "    .dataframe thead th {\n",
       "        text-align: right;\n",
       "    }\n",
       "</style>\n",
       "<table border=\"1\" class=\"dataframe\">\n",
       "  <thead>\n",
       "    <tr style=\"text-align: right;\">\n",
       "      <th></th>\n",
       "      <th>Case Number</th>\n",
       "      <th>Product Model</th>\n",
       "      <th>Case Text</th>\n",
       "    </tr>\n",
       "  </thead>\n",
       "  <tbody>\n",
       "    <tr>\n",
       "      <th>0</th>\n",
       "      <td>16451489</td>\n",
       "      <td>AMS APEX/Desktop Software/Information Management</td>\n",
       "      <td>White, Derek, 26 Apr 2019 07:30 GMT Dealer Nam...</td>\n",
       "    </tr>\n",
       "    <tr>\n",
       "      <th>1</th>\n",
       "      <td>16451481</td>\n",
       "      <td>AMS ActImpGuidance/Active Implement Guidance/G...</td>\n",
       "      <td>White, Derek, 24 Apr 2019 10:08 GMT Dealer Nam...</td>\n",
       "    </tr>\n",
       "    <tr>\n",
       "      <th>2</th>\n",
       "      <td>16451455</td>\n",
       "      <td>AMS APEX/Desktop Software/Information Management</td>\n",
       "      <td>White, Derek, 11 Apr 2019 08:42 GMT Dealer Nam...</td>\n",
       "    </tr>\n",
       "    <tr>\n",
       "      <th>3</th>\n",
       "      <td>16451405</td>\n",
       "      <td>Operations Center/Agriculture - Website/Inform...</td>\n",
       "      <td>###### Hanner, Joe, 29 Mar 2019 00:54 GMT DTAC...</td>\n",
       "    </tr>\n",
       "    <tr>\n",
       "      <th>4</th>\n",
       "      <td>16451400</td>\n",
       "      <td>GSC Web Form/Information Management</td>\n",
       "      <td>FORMUSER, 28 March 2019 16:23 GMT Op Center su...</td>\n",
       "    </tr>\n",
       "  </tbody>\n",
       "</table>\n",
       "</div>"
      ],
      "text/plain": [
       "  Case Number                                      Product Model  \\\n",
       "0    16451489   AMS APEX/Desktop Software/Information Management   \n",
       "1    16451481  AMS ActImpGuidance/Active Implement Guidance/G...   \n",
       "2    16451455   AMS APEX/Desktop Software/Information Management   \n",
       "3    16451405  Operations Center/Agriculture - Website/Inform...   \n",
       "4    16451400                GSC Web Form/Information Management   \n",
       "\n",
       "                                           Case Text  \n",
       "0  White, Derek, 26 Apr 2019 07:30 GMT Dealer Nam...  \n",
       "1  White, Derek, 24 Apr 2019 10:08 GMT Dealer Nam...  \n",
       "2  White, Derek, 11 Apr 2019 08:42 GMT Dealer Nam...  \n",
       "3  ###### Hanner, Joe, 29 Mar 2019 00:54 GMT DTAC...  \n",
       "4  FORMUSER, 28 March 2019 16:23 GMT Op Center su...  "
      ]
     },
     "execution_count": 25,
     "metadata": {},
     "output_type": "execute_result"
    }
   ],
   "source": [
    "dbpedia_df.head(5)"
   ]
  },
  {
   "cell_type": "code",
   "execution_count": 26,
   "metadata": {},
   "outputs": [
    {
     "data": {
      "text/plain": [
       "['(DNU) ApplicationPro/Spreader, Seeder Pro (ISO)/Field and Crop Solutions',\n",
       " '(DNU) Gen 4 CommandCenter/Generation 4/Display',\n",
       " '(DNU) StarFire Mobile RTK/Field Documentation/Ag Management Solutions',\n",
       " '(DNU) StarFire Mobile RTK/Harvest Doc/Ag Management Solutions',\n",
       " '(DNU) StarFire Mobile RTK/StarFire Mobile RTK/GPS Receiver',\n",
       " '(DNU) StarFire Mobile RTK/TCM - Terrain Compensation Module/Ag Management Solutions',\n",
       " '(DNU) StarFire RTK/RTK/GPS Receiver',\n",
       " '(DNU) WDT/AMS WDT/Information Management',\n",
       " '1720/Planters/Planting and Seeding',\n",
       " '1775NT 16ROW/ExactEmerge w/ PMC/Planting and Seeding',\n",
       " '1775NT 24ROW/ExactEmerge 1A0 (775101-XXXXXX)/Planting and Seeding',\n",
       " '1795/MaxEmerge 5e 1A0 (775101-XXXXXX)/Planting and Seeding',\n",
       " '180GLC/1FF180GX__E020001 (iT4/S3B)/Excavator',\n",
       " '1910/Ground Drive PIN Prefix A0 and 1A8/Planting and Seeding',\n",
       " '1910/Hydraulic Drive PIN Prefix A0 and 1A8/Planting and Seeding',\n",
       " '2020A GPS/ProGator Gas/Golf and Turf Products',\n",
       " '20Support/Ag Management Solutions',\n",
       " '210L/1T8210LX__F892600 - /Tractor Loader',\n",
       " '2454D/Log Loader/Forestry Swing Machine',\n",
       " '250D Series II/1DW250D2__E642001- (iT4/S3B)/ADT',\n",
       " '290GLC/Excavator',\n",
       " '29Support/Ag Management Solutions',\n",
       " '310SL/1T0310SL__F273920-/Backhoe',\n",
       " '350GLC/Excavator',\n",
       " '410L/1T0410LX__F273920-/Backhoe',\n",
       " '460E/1DW460E___F668587-/ADT',\n",
       " '5055E/5E PY (E_000001 - ) MY2014 -/Tractors',\n",
       " '5085E/5E LV (F_400001 - JJ999999) FT4 -MY18/Tractors',\n",
       " '5090R/5R LV (HH400001-) MY17-/Tractors',\n",
       " '5105ML/5M LV (000001 - ) 4045 T3/S3A/Tractors',\n",
       " '544J/4WD Loader',\n",
       " '544K/(642665- ) Engine 6068HDW74 (T3)/4WD Loader',\n",
       " '6100RC/6RC L0 (Engine 4045RXXXXXX) (Interim Tier 4)/Tractors',\n",
       " '6110M/6M L0 (Engine 4045UXXXXXX) (Final Tier 4_MY18)/Tractors',\n",
       " '6110M/6R L0 (Engine 4045UXXXXXX) (Final Tier 4_MY18)/Tractors',\n",
       " '6115R/2WD or MFWD - North American/Tractors',\n",
       " '6120R/6R L0 (Engine 4045UXXXXXX) (Final Tier 4)/Tractors',\n",
       " '6120R/6R L0 (Engine 4045UXXXXXX) (Final Tier 4_MY18)/Tractors',\n",
       " '6125M/6M L0 (Engine 4045GXXXXXX) (Tier 2) (SN - XXXXXX)/Tractors',\n",
       " '6125R/2WD or MFWD - North American/Tractors',\n",
       " '6125R/6R L0 (Engine 4045RXXXXXX) (Interim Tier 4)/Tractors',\n",
       " '6130R/6R L0 (Engine 4045UXXXXXX) (Final Tier 4)/Tractors',\n",
       " '6130R/6R L0 (Engine 4045UXXXXXX) (Final Tier 4_MY18)/Tractors',\n",
       " '6140R/6R RW (Engine 6068RXXXXXX) (Interim Tier 4)/Tractors',\n",
       " '6150R/6R L0 (Engine 6068RXXXXXX) (Interim Tier 4)/Tractors',\n",
       " '6155M/6M L0 (Engine 6068UXXXXXX) (Final Tier 4)/Tractors',\n",
       " '6155R/6R L0 (Engine 6068UXXXXXX) (Final Tier 4)/Tractors',\n",
       " '6155R/6R RW (32,001-) (6068U FT4) (MY18-19)/Tractors',\n",
       " '6175R/6R L0 (Engine 6068UXXXXXX) (Final Tier 4)/Tractors',\n",
       " '6175R/6R RW (20,001-) (Final Tier 4)/Tractors',\n",
       " '6175R/6R RW (32,001-) (6068U FT4) (MY18-19)/Tractors',\n",
       " '6195M/6M L0 (Engine 6068GXXXXXX) (Tier 2) (SN XXXXXX - )/Tractors',\n",
       " '6195R/6R RW (32,001-) (6068U FT4) (MY18-19)/Tractors',\n",
       " '6215R/6R RW (20,001-) (Final Tier 4)/Tractors',\n",
       " '6330 Premium/2WD or MFWD - North American/Tractors',\n",
       " '636M/QuikTrak B/E/M/R Series Mower/Commercial Mowing',\n",
       " '6810/2WD or MFWD/Tractors',\n",
       " '7210R/7R RW (080001- )/Tractors',\n",
       " '7230R/7R RW (080001- )/Tractors',\n",
       " '7260R/7R RW (000101- 15200)/Tractors',\n",
       " '7290R/7R RW (080001- )/Tractors',\n",
       " '7310R/7R RW (080001- )/Tractors',\n",
       " '7380/Self-Propelled Forage Harvesters PIN-Prefix 1Z0/Hay and Forage',\n",
       " '7450/Self-Propelled Forage Harvesters PIN Z0 or 1Z0/Hay and Forage',\n",
       " '750K/1T0750KX__E216966--270478/Crawler',\n",
       " '7550/Self-Propelled Forage Harvesters PIN Z0 or 1Z0/Hay and Forage',\n",
       " '772G/1DW772G_ _ _D680878-/Motor Grader',\n",
       " '7760/Cotton Pickers PIN Prefix N0 or 1N0/Cotton Harvesting',\n",
       " '8235R/8R RW (016001- 090000)/Tractors',\n",
       " '8245R/8R RW (090001 -)/Tractors',\n",
       " '8260R/8R RW (016001- 090000)/Tractors',\n",
       " '8270R/8R RW (090001 -)/Tractors',\n",
       " '8295R/8R RW (090001 -)/Tractors',\n",
       " '8310/2WD or MFWD/Tractors',\n",
       " '8310R/8R RW (016001- 090000)/Tractors',\n",
       " '8310RT/8RT RW (902501- 912000)/Tractors',\n",
       " '8320R/8R RW (090001 -)/Tractors',\n",
       " '8330/2WD or MFWD/Tractors',\n",
       " '8335R/8R RW (016001- 090000)/Tractors',\n",
       " '8335RT/8RT RW (902501- 912000)/Tractors',\n",
       " '8345R/8R RW (090001 -)/Tractors',\n",
       " '8345RT/8RT RW (900101- 907100)/Tractors',\n",
       " '8345RT/8RT RW (912001 -)/Tractors',\n",
       " '8360R/8R RW (016001- 090000)/Tractors',\n",
       " '8360RT/8RT RW (902501- 912000)/Tractors',\n",
       " '8370R/8R RW (090001 -)/Tractors',\n",
       " '8430/2WD or MFWD/Tractors',\n",
       " '8500/Self-Propelled Forage Harvesters 1Z0 517000-517999/Hay and Forage',\n",
       " '8520/2WD or MFWD/Tractors',\n",
       " '8530/2WD or MFWD/Tractors',\n",
       " '853MH/1T0853MH_ _F293764— /Harvester',\n",
       " '8600/Self-Propelled Forage Harvesters 1Z0 516000-XXXXXX/Hay and Forage',\n",
       " '8600/Self-Propelled Forage Harvesters 1Z0 517000-517999/Hay and Forage',\n",
       " '8800/Self-Propelled Forage Harvesters PIN-Prefix 1Z0/Hay and Forage',\n",
       " '9320/4WD Articulated/Tractors',\n",
       " '9420R/9R RW (056000 - )/Tractors',\n",
       " '9430/4WD Articulated/Tractors',\n",
       " '9460R/9R RW (000101 - 014999)/Tractors',\n",
       " '9520/4WD Articulated/Tractors',\n",
       " '9520R/9R RW (015000 - 055999)/Tractors',\n",
       " '9520R/9R RW (056000 - )/Tractors',\n",
       " '9520RX/9RX Narrow RW (805000 - )/Tractors',\n",
       " '9520RX/9RX RW (800000 - 803999)/Tractors',\n",
       " '9570R/9R RW (056000 - )/Tractors',\n",
       " '9570RX/9RX RW (800000 - 803999)/Tractors',\n",
       " '9620RX/9RX RW (800000 - 803999)/Tractors',\n",
       " '9620RX/9RX RW (804000 - )/Tractors',\n",
       " '9630/4WD Articulated/Tractors',\n",
       " '9650/Combines XXXXXX - 695100/Combines and Headers',\n",
       " '9660STS/Combines PIN Prefix H0 - North American/Combines and Headers',\n",
       " '9750STS/Combines PIN Prefix H0 - XXXXXX - 695100/Combines and Headers',\n",
       " '9770STS/Combines PIN Prefix H0 - North American/Combines and Headers',\n",
       " '9860STS/Combines PIN Prefix H0 - North American/Combines and Headers',\n",
       " 'AGContacts/Misdirected/Calls',\n",
       " 'AMS 1800/GreenStar 2/Display',\n",
       " 'AMS 2100/GreenStar 2/Display',\n",
       " 'AMS 2600/GreenStar 2/Display',\n",
       " 'AMS 2630/GreenStar 3/Display',\n",
       " 'AMS 4100/Generation 4/Display',\n",
       " 'AMS 4200/Generation 4/Display',\n",
       " 'AMS 4240/Generation 4/Display',\n",
       " 'AMS 4600/Generation 4/Display',\n",
       " 'AMS 4640/Generation 4/Display',\n",
       " 'AMS APEX/Desktop Software/Information Management',\n",
       " 'AMS AT Controller/John Deere/Guidance',\n",
       " 'AMS AT Controller/Raven/Guidance',\n",
       " 'AMS AT Controller/Reichhardt/Guidance',\n",
       " 'AMS AT Integrated/Integrated AutoTrac/Guidance',\n",
       " 'AMS AT RowSense/Integrated-Feeler/Guidance',\n",
       " 'AMS AT RowSense/Integrated-Vision/Guidance',\n",
       " 'AMS AT RowSense/Universal/Guidance',\n",
       " 'AMS ATC 250/AutoTrac Controller/Guidance',\n",
       " 'AMS ATU 100/Universal/Guidance',\n",
       " 'AMS ATU 200/Universal/Guidance',\n",
       " 'AMS ATU 300/Universal/Guidance',\n",
       " 'AMS ActImpGuidance/Active Implement Guidance/Guidance',\n",
       " 'AMS ActiveFillCont/GreenStar 3/Machine and Implement Control',\n",
       " 'AMS AgLogic/Agriculture - Website/Information Management',\n",
       " 'AMS AgLogic/Non-Connected/Mobile Application',\n",
       " 'AMS BaseStationMgr/Agriculture - Website/Information Management',\n",
       " 'AMS BaseStationMgr/MTG 3G/Communication',\n",
       " 'AMS Command Center/GS3 Command Center/Display',\n",
       " 'AMS Field Connect/Agriculture - Website/Information Management',\n",
       " 'AMS Field Connect/Gateway and In-Field Hardware System/Communication',\n",
       " 'AMS Field Connect/Non-Connected/Mobile Application',\n",
       " 'AMS Harv ID,Cotton/GreenStar/Field and Crop Solutions',\n",
       " 'AMS Harvest Mobile/Connected/Mobile Application',\n",
       " 'AMS HarvestLab/GreenStar/Field and Crop Solutions',\n",
       " 'AMS HarvestLab3000/GreenStar/Field and Crop Solutions',\n",
       " 'AMS Impl Detection/John Deere Implement Detection/Machine and Implement Control',\n",
       " 'AMS JDRC 2000/GreenStar 3/Machine and Implement Control',\n",
       " 'AMS Machine Sync/Automation - MCR/Guidance',\n",
       " 'AMS Machine Sync/Shared Data - MCR/Guidance',\n",
       " 'AMS Machine Sync/Shared Data - MTG/Guidance',\n",
       " 'AMS Manure Sensing/GreenStar 3/Machine and Implement Control',\n",
       " 'AMS Manure Sensing/HarvestLab 3000/Machine and Implement Control',\n",
       " 'AMS Map Request - RTK/Information Management',\n",
       " 'AMS Mobile Data Transfer/Non-Connected/Mobile Application',\n",
       " 'AMS Mobile Farm Manager/Non-Connected/Mobile Application',\n",
       " 'AMS Mobile Weather/GreenStar/Field and Crop Solutions',\n",
       " 'AMS MyAnalyzer/Non-Connected/Mobile Application',\n",
       " 'AMS MyJobs/Non-Connected/Mobile Application',\n",
       " 'AMS MyJobsManager/Non-Connected/Mobile Application',\n",
       " 'AMS MyJohnDeere/Website-Dashboard/Information Management',\n",
       " 'AMS MyOperations/Non-Connected/Mobile Application',\n",
       " 'AMS MyTransfer/Non-Connected/Mobile Application',\n",
       " 'AMS Orig. Display/Original Display & Mobile Processor/Display',\n",
       " 'AMS RateControlDry/GreenStar/Machine and Implement Control',\n",
       " 'AMS RateController/GreenStar/Machine and Implement Control',\n",
       " 'AMS Raven Accuflow/Raven/Machine and Implement Control',\n",
       " 'AMS Raven AutoBoom/Raven/Machine and Implement Control',\n",
       " 'AMS Raven SCS 450/Raven/Machine and Implement Control',\n",
       " 'AMS Raven Sidekick/Raven/Machine and Implement Control',\n",
       " 'AMS RavenSkick Pro/Raven/Machine and Implement Control',\n",
       " 'AMS StarFire 300/StarFire/GPS Receiver',\n",
       " 'AMS StarFire 3000/StarFire/GPS Receiver',\n",
       " 'AMS StarFire 6000/StarFire/GPS Receiver',\n",
       " 'AMS StarFire RTK/450 MHz Radio/Communication',\n",
       " 'AMS StarFire RTK/900 MHz Radio/Communication',\n",
       " 'AMS StarFire iTC/StarFire/GPS Receiver',\n",
       " 'AMS StarFire mRTK/Agriculture - Website/Information Management',\n",
       " 'AMS StarFire mRTK/Generation 1 - Axionet/Communication',\n",
       " 'AMS StarFire mRTK/Generation 3 - Open SIM/4G/Communication',\n",
       " 'AMS StarFire mRTK/MTG 2G/3G/Communication',\n",
       " 'AMS StarFire mRTK/MTG 4G LTE/Communication',\n",
       " 'AMS StellarSupport/Website-Dashboard/Information Management',\n",
       " 'AMS YieldDocSPCrop/GreenStar 3/Field and Crop Solutions',\n",
       " 'AMS iGrade/GreenStar/Field and Crop Solutions',\n",
       " 'AMS iGuide/iGuide/Guidance',\n",
       " 'App Center/Non-Connected/Mobile Application',\n",
       " 'ApplyPlus/Non-Connected/Mobile Application',\n",
       " 'AutoTrac Implement Guidance/Generation 4/Guidance',\n",
       " 'AutoTrac Integrated/Generation 4/Guidance',\n",
       " 'AutoTrac Turn Automation/Generation 4/Guidance',\n",
       " 'CCMS/Information',\n",
       " 'CH570/PIN Prefix 1T8 150001 - XXXXXX/Sugar Cane Harvesters',\n",
       " 'Connect Mobile/Harvesting/Mobile Application',\n",
       " 'Connect Mobile/Planting/Mobile Application',\n",
       " 'Connect Mobile/Spraying/Mobile Application',\n",
       " 'D100/JD Lawn and Garden Tractors/Riding Lawn Equipment',\n",
       " 'D110/JD Lawn and Garden Tractors/Riding Lawn Equipment',\n",
       " 'DTAC Application/Information',\n",
       " 'Data Sync/Generation 4/Information Management',\n",
       " 'Documentation and Basics/Generation 4/Display',\n",
       " 'Documentation and Basics/GreenStar 3/Display',\n",
       " 'E130/100 Series Lawn Tractor/Riding Lawn Equipment',\n",
       " 'GSC Misc/Information Management',\n",
       " 'GSC Web Form/Information Management',\n",
       " 'General/General/General',\n",
       " 'Grain Truck Plus Mobile/Non-Connected/Mobile Application',\n",
       " 'GreenStar/Yield Monitoring - Mapping/Ag Management Solutions',\n",
       " 'ISOBUS Implement/ISOBUS/AG',\n",
       " 'In-Field Data Sharing/Generation 4/Information Management',\n",
       " 'JDLink Dashboard/Agriculture - Website/Information Management',\n",
       " 'JDLink Dashboard/Construction and Forestry - Website/Information Management',\n",
       " 'JDLink Dashboard/Power Systems - Wesbsite/Information Management',\n",
       " 'JDLink/MTG 2G/3G/Communication',\n",
       " 'JDLink/MTG 4G LTE/Communication',\n",
       " 'JDLink/Non-Connected/Mobile Application',\n",
       " 'JDLink/UTG LMU-3000 CalAmp/Communication',\n",
       " 'JDLink/UTG MC-3 Morey - AG/Communication',\n",
       " 'JDLink/UTG MC-3 Morey - CF/Communication',\n",
       " 'JDLink/UTG TTU-720 CalAmp/Communication',\n",
       " 'JDLink/UTG Universal Telematics/Communication',\n",
       " 'John Deere Parts/Information/Information',\n",
       " 'Maintenance Manager - Support/Maintenance Manager - Support/Support',\n",
       " 'Maintenance Mgr/Agriculture - Website/Information Management',\n",
       " 'Maintenance Mgr/Construction and Forestry - Website/Information Management',\n",
       " 'Miscellaneous/General/General',\n",
       " 'MyMaintenance/Non-Connected/Mobile Application',\n",
       " 'Operations Center/Agriculture - Website/Information Management',\n",
       " 'Operations Center/Commercial Agronomy - Website/Information Management',\n",
       " 'Operations Center/Construction and Forestry - Website/Information Management',\n",
       " 'PowerAssist Mobile/Non-Connected/Mobile Application',\n",
       " 'R2 JDParts Support/JDParts Website/Support',\n",
       " 'R4 AgCC Support/AgCC/AG',\n",
       " 'R4 Deere.com/Deere website/Support',\n",
       " 'R4 Turf Support/Turf/AG and CCE',\n",
       " 'R4038/Self-Propelled Sprayers PIN Prefix N0 or 1N0/Sprayers',\n",
       " 'R4044/Self-Propelled Sprayers PIN Prefix N0 or 1N0/Sprayers',\n",
       " 'R4045/Self-Propelled Sprayers PIN Prefix N0 or 1N0/Sprayers',\n",
       " 'Remote Display Access/Generation 4/Communication',\n",
       " 'Remote Display Access/GreenStar 3/Communication',\n",
       " 'Rewards/Rewards Support/Support',\n",
       " 'S660/Combines 1H0S660 745100 -765171/Combines and Headers',\n",
       " 'S670/Combines 1H0S670 765253 – 784999/Combines and Headers',\n",
       " 'S680/Combines 1H0 785000 - XXXXXX/Combines and Headers',\n",
       " 'S680/Combines 1H0S680 745100 – 766006/Combines and Headers',\n",
       " 'S680/Combines 1Z0 105000 - 109999/Combines and Headers',\n",
       " 'S680/Combines Pin Prefix 1Z0/Combines and Headers',\n",
       " 'S690/Combines 1H0 785000 - XXXXXX/Combines and Headers',\n",
       " 'S690/Combines 1H0S690 745100 – 765249/Combines and Headers',\n",
       " 'S760/Combines 1H0 800001 – 809999/Combines and Headers',\n",
       " 'S760/Combines 1Z0 110000 - 114999/Combines and Headers',\n",
       " 'S770/Combines 1H0 800001 – 809999/Combines and Headers',\n",
       " 'S770/Combines 1Z0 110000 - 114999/Combines and Headers',\n",
       " 'S780/Combines 1H0 800001 – 809999/Combines and Headers',\n",
       " 'S780/Combines 1Z0 110000 - 114999/Combines and Headers',\n",
       " 'S790/Combines 1H0 800001 – 809999/Combines and Headers',\n",
       " 'STS 12/Self-Propelled Sprayers/Sprayers',\n",
       " 'Section Control/Generation 4/Machine and Implement Control',\n",
       " 'Section Control/GreenStar 3/Machine and Implement Control',\n",
       " 'Service ADVISOR Remote/Information',\n",
       " 'ServiceADVISOR AG/Information/Information',\n",
       " 'SolutionsPlus Mobile/Non-Connected/Mobile Application',\n",
       " 'TimberNavi/Full Tree/CF Management Solutions',\n",
       " 'W150/Self-Propelled Windrowers 180001 - XXXXXX/Hay and Forage',\n",
       " 'Website Login - JDLink-Support/Website Login - Support/Support',\n",
       " 'Wireless Data Transfer/GreenStar 3/Information Management',\n",
       " 'Z335E/Residential ZTRAK/Riding Lawn Equipment',\n",
       " 'nan']"
      ]
     },
     "execution_count": 26,
     "metadata": {},
     "output_type": "execute_result"
    }
   ],
   "source": [
    "sorted(dbpedia_df['Product Model'].unique().astype(str))"
   ]
  },
  {
   "cell_type": "code",
   "execution_count": 27,
   "metadata": {},
   "outputs": [
    {
     "data": {
      "text/plain": [
       "0    White, Derek, 26 Apr 2019 07:30 GMT Dealer Nam...\n",
       "1    White, Derek, 24 Apr 2019 10:08 GMT Dealer Nam...\n",
       "2    White, Derek, 11 Apr 2019 08:42 GMT Dealer Nam...\n",
       "3    ###### Hanner, Joe, 29 Mar 2019 00:54 GMT DTAC...\n",
       "4    FORMUSER, 28 March 2019 16:23 GMT Op Center su...\n",
       "Name: Case Text, dtype: object"
      ]
     },
     "execution_count": 27,
     "metadata": {},
     "output_type": "execute_result"
    }
   ],
   "source": [
    "X=dbpedia_df['Case Text']\n",
    "X.head()"
   ]
  },
  {
   "cell_type": "code",
   "execution_count": 30,
   "metadata": {},
   "outputs": [],
   "source": [
    "count_vectorizer = CountVectorizer(max_df=200, min_df=3) #if seen more then 200 or less than 3 the word is ignored.\n",
    "#transformed_vector = count_vectorizer.fit_transform(X)\n",
    "transformed_vector = count_vectorizer.fit_transform(dbpedia_df['Case Text'].values.astype('U'))"
   ]
  },
  {
   "cell_type": "code",
   "execution_count": 31,
   "metadata": {},
   "outputs": [
    {
     "data": {
      "text/plain": [
       "(46423, 30107)"
      ]
     },
     "execution_count": 31,
     "metadata": {},
     "output_type": "execute_result"
    }
   ],
   "source": [
    "transformed_vector.shape"
   ]
  },
  {
   "cell_type": "code",
   "execution_count": 32,
   "metadata": {},
   "outputs": [],
   "source": [
    "feature_names = count_vectorizer.get_feature_names()"
   ]
  },
  {
   "cell_type": "code",
   "execution_count": 33,
   "metadata": {},
   "outputs": [
    {
     "data": {
      "text/plain": [
       "30107"
      ]
     },
     "execution_count": 33,
     "metadata": {},
     "output_type": "execute_result"
    }
   ],
   "source": [
    "len(feature_names)"
   ]
  },
  {
   "cell_type": "code",
   "execution_count": 34,
   "metadata": {},
   "outputs": [
    {
     "data": {
      "text/plain": [
       "['041909dealer',\n",
       " '041929customer',\n",
       " '041929dealer',\n",
       " '041944customer',\n",
       " '041958',\n",
       " '041958customer',\n",
       " '041958dealer',\n",
       " '042018',\n",
       " '042019',\n",
       " '042215']"
      ]
     },
     "execution_count": 34,
     "metadata": {},
     "output_type": "execute_result"
    }
   ],
   "source": [
    "feature_names [500:510]"
   ]
  },
  {
   "cell_type": "code",
   "execution_count": 35,
   "metadata": {},
   "outputs": [],
   "source": [
    "NUM_TOPICS = 20 # arbitraty number of topics, I chose 20\n",
    "lda_model = LatentDirichletAllocation(n_components = NUM_TOPICS, max_iter =100)\n",
    "lda = lda_model.fit_transform(transformed_vector)"
   ]
  },
  {
   "cell_type": "code",
   "execution_count": 36,
   "metadata": {},
   "outputs": [
    {
     "data": {
      "text/plain": [
       "(46423, 20)"
      ]
     },
     "execution_count": 36,
     "metadata": {},
     "output_type": "execute_result"
    }
   ],
   "source": [
    "lda.shape"
   ]
  },
  {
   "cell_type": "markdown",
   "metadata": {},
   "source": [
    "### Probability score for each topic"
   ]
  },
  {
   "cell_type": "code",
   "execution_count": 37,
   "metadata": {},
   "outputs": [
    {
     "data": {
      "text/plain": [
       "array([[0.5125    , 0.0125    , 0.0125    , 0.0125    , 0.0125    ,\n",
       "        0.0125    , 0.0125    , 0.0125    , 0.0125    , 0.0125    ,\n",
       "        0.0125    , 0.0125    , 0.2625    , 0.0125    , 0.0125    ,\n",
       "        0.0125    , 0.0125    , 0.0125    , 0.0125    , 0.0125    ],\n",
       "       [0.01250001, 0.0125    , 0.26249999, 0.5125    , 0.0125    ,\n",
       "        0.0125    , 0.0125    , 0.0125    , 0.0125    , 0.0125    ,\n",
       "        0.0125    , 0.0125    , 0.0125    , 0.0125    , 0.0125    ,\n",
       "        0.0125    , 0.0125    , 0.0125    , 0.0125    , 0.0125    ]])"
      ]
     },
     "execution_count": 37,
     "metadata": {},
     "output_type": "execute_result"
    }
   ],
   "source": [
    "lda[:2]"
   ]
  },
  {
   "cell_type": "code",
   "execution_count": 38,
   "metadata": {},
   "outputs": [],
   "source": [
    "def print_topic (identifier,top_words=3):\n",
    "    for topic_id,topic_word_probs in enumerate(lda_model.components_): #how often a word oppears with topic\n",
    "        if topic_id == identifier:\n",
    "            print (\"Topic %d:\" % (topic_id))\n",
    "            top_feature_names = [feature_names[i] for i in topic_word_probs.argsort()[: -top_words -1 :-1]]\n",
    "            print (\" \".join(top_feature_names))"
   ]
  },
  {
   "cell_type": "code",
   "execution_count": 39,
   "metadata": {},
   "outputs": [
    {
     "name": "stdout",
     "output_type": "stream",
     "text": [
      "Topic 0:\n",
      "lab harvestlab clark\n",
      "Topic 1:\n",
      "ou não suporte\n",
      "Topic 2:\n",
      "112 scv bull\n",
      "Topic 3:\n",
      "font igrade ethan\n",
      "Topic 4:\n",
      "camera 300 header\n",
      "Topic 5:\n",
      "curve curves incentive\n",
      "Topic 6:\n",
      "sr sds 112631\n",
      "Topic 7:\n",
      "adisplay areceiver warden\n",
      "Topic 8:\n",
      "trimble amethan 15e\n",
      "Topic 9:\n",
      "beta austin doug\n",
      "Topic 10:\n",
      "xx letter jdmrtk\n",
      "Topic 11:\n",
      "probe refund baler\n",
      "Topic 12:\n",
      "aglogic myoperations keith\n",
      "Topic 13:\n",
      "simulator caleb rachel\n",
      "Topic 14:\n",
      "offset pressure meter\n",
      "Topic 15:\n",
      "greg pmethan larry\n",
      "Topic 16:\n",
      "0000 les jdf\n",
      "Topic 17:\n",
      "lhp au 4240\n",
      "Topic 18:\n",
      "prescriptions unload archive\n",
      "Topic 19:\n",
      "amme audra moore\n"
     ]
    }
   ],
   "source": [
    "for i in range (20):\n",
    "    print_topic(i, top_words = 3) # prints top 3 words per topic (here I have chosen 20 topics)"
   ]
  },
  {
   "cell_type": "markdown",
   "metadata": {},
   "source": [
    "### Topic Modeling"
   ]
  },
  {
   "cell_type": "code",
   "execution_count": 40,
   "metadata": {},
   "outputs": [],
   "source": [
    "def get_topic (identifier,top_words=100):\n",
    "    for topic_id,topic_word_probs in enumerate(lda_model.components_): #how often a word oppears with topic\n",
    "        if topic_id == identifier:\n",
    "            top_feature_names = [feature_names[i] for i in topic_word_probs.argsort()[: -top_words -1 :-1]]\n",
    "            print (\" \".join(top_feature_names))"
   ]
  },
  {
   "cell_type": "code",
   "execution_count": 41,
   "metadata": {},
   "outputs": [
    {
     "name": "stdout",
     "output_type": "stream",
     "text": [
      "lab harvestlab clark\n",
      "ou não suporte\n",
      "112 scv bull\n",
      "font igrade ethan\n",
      "camera 300 header\n",
      "curve curves incentive\n",
      "sr sds 112631\n",
      "adisplay areceiver warden\n",
      "trimble amethan 15e\n",
      "beta austin doug\n",
      "xx letter jdmrtk\n",
      "probe refund baler\n",
      "aglogic myoperations keith\n",
      "simulator caleb rachel\n",
      "offset pressure meter\n",
      "greg pmethan larry\n",
      "0000 les jdf\n",
      "lhp au 4240\n",
      "prescriptions unload archive\n",
      "amme audra moore\n"
     ]
    },
    {
     "data": {
      "text/plain": [
       "{0: None,\n",
       " 1: None,\n",
       " 2: None,\n",
       " 3: None,\n",
       " 4: None,\n",
       " 5: None,\n",
       " 6: None,\n",
       " 7: None,\n",
       " 8: None,\n",
       " 9: None,\n",
       " 10: None,\n",
       " 11: None,\n",
       " 12: None,\n",
       " 13: None,\n",
       " 14: None,\n",
       " 15: None,\n",
       " 16: None,\n",
       " 17: None,\n",
       " 18: None,\n",
       " 19: None}"
      ]
     },
     "execution_count": 41,
     "metadata": {},
     "output_type": "execute_result"
    }
   ],
   "source": [
    "topic_id_topic_mapping={}\n",
    "\n",
    "for i in range(20):\n",
    "    topic_id_topic_mapping[i] = get_topic(i, top_words=3)\n",
    "    \n",
    "topic_id_topic_mapping"
   ]
  },
  {
   "cell_type": "code",
   "execution_count": 42,
   "metadata": {},
   "outputs": [],
   "source": [
    "topic_to_doc_mapping={}\n",
    "topic_list=[]\n",
    "topic_names=[]"
   ]
  },
  {
   "cell_type": "code",
   "execution_count": 43,
   "metadata": {},
   "outputs": [],
   "source": [
    "for i in range (NUM_SAMPLES):\n",
    "    most_likely_topic = lda[i].argmax()\n",
    "    \n",
    "    if most_likely_topic not in topic_to_doc_mapping:\n",
    "        topic_to_doc_mapping[most_likely_topic]=[]\n",
    "        \n",
    "    topic_to_doc_mapping[most_likely_topic].append(i)\n",
    "    \n",
    "    topic_list.append(most_likely_topic)\n",
    "    topic_names.append(topic_id_topic_mapping[most_likely_topic])\n",
    "    \n",
    "#len(topic_list)\n",
    "#len(topic_names)\n",
    "    \n",
    "dbpedia_df['Most_Likely_Topic'] = pd.Series(topic_list)\n",
    "dbpedia_df['Most_Likely_Topic_Names'] = pd.Series(topic_names)"
   ]
  },
  {
   "cell_type": "code",
   "execution_count": 44,
   "metadata": {},
   "outputs": [
    {
     "name": "stdout",
     "output_type": "stream",
     "text": [
      "[0, 2, 42, 79, 124, 220, 221, 240, 275, 326, 339, 387, 391, 413, 416, 439, 441, 448, 462, 510, 537, 544, 545, 581, 708, 733, 753, 765, 787, 788, 806, 809, 828, 834, 845, 846, 847, 850, 851, 866, 882, 889, 904, 911, 913, 918, 927, 937, 941, 943, 964, 966, 969, 976, 992, 994, 999, 1000, 1014, 1017, 1021, 1022, 1035, 1044, 1047, 1062, 1072, 1073, 1074, 1075, 1076, 1078, 1080, 1081, 1082, 1083, 1084, 1085, 1086, 1088, 1089, 1090, 1092, 1093, 1094, 1097, 1108, 1109, 1110, 1112, 1113, 1114, 1115, 1116, 1117, 1118, 1119, 1120, 1121, 1122]\n"
     ]
    }
   ],
   "source": [
    "print (topic_to_doc_mapping[0][:100])"
   ]
  },
  {
   "cell_type": "markdown",
   "metadata": {},
   "source": [
    "## Look up id of topic"
   ]
  },
  {
   "cell_type": "code",
   "execution_count": 45,
   "metadata": {},
   "outputs": [
    {
     "ename": "KeyError",
     "evalue": "211",
     "output_type": "error",
     "traceback": [
      "\u001b[0;31m---------------------------------------------------------------------------\u001b[0m",
      "\u001b[0;31mKeyError\u001b[0m                                  Traceback (most recent call last)",
      "\u001b[0;32m<ipython-input-45-4f12374a6fa8>\u001b[0m in \u001b[0;36m<module>\u001b[0;34m\u001b[0m\n\u001b[1;32m      1\u001b[0m \u001b[0mtopic_of_interest\u001b[0m  \u001b[0;34m=\u001b[0m \u001b[0;36m211\u001b[0m\u001b[0;34m\u001b[0m\u001b[0;34m\u001b[0m\u001b[0m\n\u001b[0;32m----> 2\u001b[0;31m \u001b[0mdoc_ids\u001b[0m \u001b[0;34m=\u001b[0m \u001b[0mtopic_to_doc_mapping\u001b[0m\u001b[0;34m[\u001b[0m\u001b[0mtopic_of_interest\u001b[0m\u001b[0;34m]\u001b[0m\u001b[0;34m[\u001b[0m\u001b[0;34m:\u001b[0m\u001b[0;36m4\u001b[0m\u001b[0;34m]\u001b[0m\u001b[0;34m\u001b[0m\u001b[0;34m\u001b[0m\u001b[0m\n\u001b[0m\u001b[1;32m      3\u001b[0m \u001b[0;32mfor\u001b[0m \u001b[0mdoc_index\u001b[0m \u001b[0;32min\u001b[0m \u001b[0mdoc_ids\u001b[0m\u001b[0;34m:\u001b[0m\u001b[0;34m\u001b[0m\u001b[0;34m\u001b[0m\u001b[0m\n\u001b[1;32m      4\u001b[0m     \u001b[0mprint\u001b[0m\u001b[0;34m(\u001b[0m\u001b[0mx\u001b[0m\u001b[0;34m.\u001b[0m\u001b[0miloc\u001b[0m\u001b[0;34m[\u001b[0m\u001b[0mdoc_index\u001b[0m\u001b[0;34m]\u001b[0m\u001b[0;34m)\u001b[0m\u001b[0;34m\u001b[0m\u001b[0;34m\u001b[0m\u001b[0m\n",
      "\u001b[0;31mKeyError\u001b[0m: 211"
     ]
    }
   ],
   "source": [
    "topic_of_interest  = 211\n",
    "doc_ids = topic_to_doc_mapping[topic_of_interest][:4]\n",
    "for doc_index in doc_ids:\n",
    "    print(x.iloc[doc_index])"
   ]
  },
  {
   "cell_type": "code",
   "execution_count": 46,
   "metadata": {},
   "outputs": [
    {
     "data": {
      "text/html": [
       "<div>\n",
       "<style scoped>\n",
       "    .dataframe tbody tr th:only-of-type {\n",
       "        vertical-align: middle;\n",
       "    }\n",
       "\n",
       "    .dataframe tbody tr th {\n",
       "        vertical-align: top;\n",
       "    }\n",
       "\n",
       "    .dataframe thead th {\n",
       "        text-align: right;\n",
       "    }\n",
       "</style>\n",
       "<table border=\"1\" class=\"dataframe\">\n",
       "  <thead>\n",
       "    <tr style=\"text-align: right;\">\n",
       "      <th></th>\n",
       "      <th>Case Number</th>\n",
       "      <th>Product Model</th>\n",
       "      <th>Case Text</th>\n",
       "      <th>Most_Likely_Topic</th>\n",
       "      <th>Most_Likely_Topic_Names</th>\n",
       "    </tr>\n",
       "  </thead>\n",
       "  <tbody>\n",
       "    <tr>\n",
       "      <th>27677</th>\n",
       "      <td>DTAC-334583</td>\n",
       "      <td>AMS AT Controller/Reichhardt/Guidance</td>\n",
       "      <td>RyanPlease see solution 93845 on the highlight...</td>\n",
       "      <td>NaN</td>\n",
       "      <td>NaN</td>\n",
       "    </tr>\n",
       "    <tr>\n",
       "      <th>8992</th>\n",
       "      <td>DTAC-124768</td>\n",
       "      <td>AMS Field Connect/Gateway and In-Field Hardwar...</td>\n",
       "      <td>See solution 108540 this has a PDF with the pi...</td>\n",
       "      <td>14.0</td>\n",
       "      <td>None</td>\n",
       "    </tr>\n",
       "    <tr>\n",
       "      <th>16180</th>\n",
       "      <td>DTAC-207400</td>\n",
       "      <td>AMS 4600/Generation 4/Display</td>\n",
       "      <td>Joe, We have seen this on 2630 and Gen 4. Make...</td>\n",
       "      <td>NaN</td>\n",
       "      <td>NaN</td>\n",
       "    </tr>\n",
       "    <tr>\n",
       "      <th>35042</th>\n",
       "      <td>DTAC-450390</td>\n",
       "      <td>Connect Mobile/Planting/Mobile Application</td>\n",
       "      <td>Looks like the 4940 is not compatible with Con...</td>\n",
       "      <td>NaN</td>\n",
       "      <td>NaN</td>\n",
       "    </tr>\n",
       "    <tr>\n",
       "      <th>40326</th>\n",
       "      <td>DTAC-516615</td>\n",
       "      <td>AMS 4600/Generation 4/Display</td>\n",
       "      <td>I called Jonathan, he got the software to go o...</td>\n",
       "      <td>NaN</td>\n",
       "      <td>NaN</td>\n",
       "    </tr>\n",
       "    <tr>\n",
       "      <th>...</th>\n",
       "      <td>...</td>\n",
       "      <td>...</td>\n",
       "      <td>...</td>\n",
       "      <td>...</td>\n",
       "      <td>...</td>\n",
       "    </tr>\n",
       "    <tr>\n",
       "      <th>45773</th>\n",
       "      <td>DTAC-99327</td>\n",
       "      <td>JDLink Dashboard/Agriculture - Website/Informa...</td>\n",
       "      <td>Dealer Name: ERIC STOLLERDealer Acct No: 17830...</td>\n",
       "      <td>NaN</td>\n",
       "      <td>NaN</td>\n",
       "    </tr>\n",
       "    <tr>\n",
       "      <th>19197</th>\n",
       "      <td>DTAC-241682</td>\n",
       "      <td>Operations Center/Agriculture - Website/Inform...</td>\n",
       "      <td>Product Model: Operations Center/Agriculture -...</td>\n",
       "      <td>NaN</td>\n",
       "      <td>NaN</td>\n",
       "    </tr>\n",
       "    <tr>\n",
       "      <th>15372</th>\n",
       "      <td>DTAC-196440</td>\n",
       "      <td>AMS StarFire 3000/StarFire/GPS Receiver</td>\n",
       "      <td>Dealer Name: LOGAN SMITHDealer Acct No: 087807...</td>\n",
       "      <td>NaN</td>\n",
       "      <td>NaN</td>\n",
       "    </tr>\n",
       "    <tr>\n",
       "      <th>22295</th>\n",
       "      <td>DTAC-271748</td>\n",
       "      <td>AMS StarFire 3000/StarFire/GPS Receiver</td>\n",
       "      <td>Dealer Name: Max GreunkeDealer XID: X984064Cus...</td>\n",
       "      <td>NaN</td>\n",
       "      <td>NaN</td>\n",
       "    </tr>\n",
       "    <tr>\n",
       "      <th>36820</th>\n",
       "      <td>DTAC-478434</td>\n",
       "      <td>AMS 4600/Generation 4/Display</td>\n",
       "      <td>No, The DN 345 will not be compatible with the...</td>\n",
       "      <td>NaN</td>\n",
       "      <td>NaN</td>\n",
       "    </tr>\n",
       "  </tbody>\n",
       "</table>\n",
       "<p>200 rows × 5 columns</p>\n",
       "</div>"
      ],
      "text/plain": [
       "       Case Number                                      Product Model  \\\n",
       "27677  DTAC-334583              AMS AT Controller/Reichhardt/Guidance   \n",
       "8992   DTAC-124768  AMS Field Connect/Gateway and In-Field Hardwar...   \n",
       "16180  DTAC-207400                      AMS 4600/Generation 4/Display   \n",
       "35042  DTAC-450390         Connect Mobile/Planting/Mobile Application   \n",
       "40326  DTAC-516615                      AMS 4600/Generation 4/Display   \n",
       "...            ...                                                ...   \n",
       "45773   DTAC-99327  JDLink Dashboard/Agriculture - Website/Informa...   \n",
       "19197  DTAC-241682  Operations Center/Agriculture - Website/Inform...   \n",
       "15372  DTAC-196440            AMS StarFire 3000/StarFire/GPS Receiver   \n",
       "22295  DTAC-271748            AMS StarFire 3000/StarFire/GPS Receiver   \n",
       "36820  DTAC-478434                      AMS 4600/Generation 4/Display   \n",
       "\n",
       "                                               Case Text  Most_Likely_Topic  \\\n",
       "27677  RyanPlease see solution 93845 on the highlight...                NaN   \n",
       "8992   See solution 108540 this has a PDF with the pi...               14.0   \n",
       "16180  Joe, We have seen this on 2630 and Gen 4. Make...                NaN   \n",
       "35042  Looks like the 4940 is not compatible with Con...                NaN   \n",
       "40326  I called Jonathan, he got the software to go o...                NaN   \n",
       "...                                                  ...                ...   \n",
       "45773  Dealer Name: ERIC STOLLERDealer Acct No: 17830...                NaN   \n",
       "19197  Product Model: Operations Center/Agriculture -...                NaN   \n",
       "15372  Dealer Name: LOGAN SMITHDealer Acct No: 087807...                NaN   \n",
       "22295  Dealer Name: Max GreunkeDealer XID: X984064Cus...                NaN   \n",
       "36820  No, The DN 345 will not be compatible with the...                NaN   \n",
       "\n",
       "      Most_Likely_Topic_Names  \n",
       "27677                     NaN  \n",
       "8992                     None  \n",
       "16180                     NaN  \n",
       "35042                     NaN  \n",
       "40326                     NaN  \n",
       "...                       ...  \n",
       "45773                     NaN  \n",
       "19197                     NaN  \n",
       "15372                     NaN  \n",
       "22295                     NaN  \n",
       "36820                     NaN  \n",
       "\n",
       "[200 rows x 5 columns]"
      ]
     },
     "execution_count": 46,
     "metadata": {},
     "output_type": "execute_result"
    }
   ],
   "source": [
    "dbpedia_df.sample(200)"
   ]
  },
  {
   "cell_type": "markdown",
   "metadata": {},
   "source": [
    "## ISO Manifold Learning"
   ]
  },
  {
   "cell_type": "code",
   "execution_count": 28,
   "metadata": {},
   "outputs": [],
   "source": [
    "from sklearn.manifold import Isomap\n",
    "isomap = Isomap(n_neighbors = 20, n_components = 2)"
   ]
  },
  {
   "cell_type": "code",
   "execution_count": 29,
   "metadata": {},
   "outputs": [],
   "source": [
    "lda_2d_isomap = isomap.fit_transform(lda)"
   ]
  },
  {
   "cell_type": "code",
   "execution_count": 30,
   "metadata": {},
   "outputs": [
    {
     "data": {
      "text/html": [
       "<div>\n",
       "<style scoped>\n",
       "    .dataframe tbody tr th:only-of-type {\n",
       "        vertical-align: middle;\n",
       "    }\n",
       "\n",
       "    .dataframe tbody tr th {\n",
       "        vertical-align: top;\n",
       "    }\n",
       "\n",
       "    .dataframe thead th {\n",
       "        text-align: right;\n",
       "    }\n",
       "</style>\n",
       "<table border=\"1\" class=\"dataframe\">\n",
       "  <thead>\n",
       "    <tr style=\"text-align: right;\">\n",
       "      <th></th>\n",
       "      <th>0</th>\n",
       "      <th>1</th>\n",
       "    </tr>\n",
       "  </thead>\n",
       "  <tbody>\n",
       "    <tr>\n",
       "      <th>0</th>\n",
       "      <td>0.110922</td>\n",
       "      <td>0.385139</td>\n",
       "    </tr>\n",
       "    <tr>\n",
       "      <th>1</th>\n",
       "      <td>0.386157</td>\n",
       "      <td>-0.450928</td>\n",
       "    </tr>\n",
       "    <tr>\n",
       "      <th>2</th>\n",
       "      <td>0.668144</td>\n",
       "      <td>-0.229114</td>\n",
       "    </tr>\n",
       "    <tr>\n",
       "      <th>3</th>\n",
       "      <td>0.128939</td>\n",
       "      <td>-0.404225</td>\n",
       "    </tr>\n",
       "    <tr>\n",
       "      <th>4</th>\n",
       "      <td>0.072556</td>\n",
       "      <td>0.112992</td>\n",
       "    </tr>\n",
       "  </tbody>\n",
       "</table>\n",
       "</div>"
      ],
      "text/plain": [
       "          0         1\n",
       "0  0.110922  0.385139\n",
       "1  0.386157 -0.450928\n",
       "2  0.668144 -0.229114\n",
       "3  0.128939 -0.404225\n",
       "4  0.072556  0.112992"
      ]
     },
     "execution_count": 30,
     "metadata": {},
     "output_type": "execute_result"
    }
   ],
   "source": [
    "lda_df_isomap = pd.DataFrame(lda_2d_isomap)\n",
    "lda_df_isomap.head()"
   ]
  },
  {
   "cell_type": "code",
   "execution_count": 31,
   "metadata": {},
   "outputs": [
    {
     "ename": "ValueError",
     "evalue": "'c' argument must be a mpl color, a sequence of mpl colors or a sequence of numbers, not 0         AMS APEX/Desktop Software/Information Management\n1        AMS ActImpGuidance/Active Implement Guidance/G...\n2         AMS APEX/Desktop Software/Information Management\n3        Operations Center/Agriculture - Website/Inform...\n4                      GSC Web Form/Information Management\n                               ...                        \n46418    AMS ActImpGuidance/Active Implement Guidance/G...\n46419                  GSC Web Form/Information Management\n46420    AMS MyJohnDeere/Website-Dashboard/Information ...\n46421     AMS APEX/Desktop Software/Information Management\n46422                        AMS 4640/Generation 4/Display\nName: Product Model, Length: 46423, dtype: object.",
     "output_type": "error",
     "traceback": [
      "\u001b[0;31m---------------------------------------------------------------------------\u001b[0m",
      "\u001b[0;31mValueError\u001b[0m                                Traceback (most recent call last)",
      "\u001b[0;32m~/conda/envs/python/lib/python3.6/site-packages/matplotlib/axes/_axes.py\u001b[0m in \u001b[0;36m_parse_scatter_color_args\u001b[0;34m(c, edgecolors, kwargs, xshape, yshape, get_next_color_func)\u001b[0m\n\u001b[1;32m   4284\u001b[0m             \u001b[0;32mtry\u001b[0m\u001b[0;34m:\u001b[0m  \u001b[0;31m# Then is 'c' acceptable as PathCollection facecolors?\u001b[0m\u001b[0;34m\u001b[0m\u001b[0;34m\u001b[0m\u001b[0m\n\u001b[0;32m-> 4285\u001b[0;31m                 \u001b[0mcolors\u001b[0m \u001b[0;34m=\u001b[0m \u001b[0mmcolors\u001b[0m\u001b[0;34m.\u001b[0m\u001b[0mto_rgba_array\u001b[0m\u001b[0;34m(\u001b[0m\u001b[0mc\u001b[0m\u001b[0;34m)\u001b[0m\u001b[0;34m\u001b[0m\u001b[0;34m\u001b[0m\u001b[0m\n\u001b[0m\u001b[1;32m   4286\u001b[0m                 \u001b[0mn_elem\u001b[0m \u001b[0;34m=\u001b[0m \u001b[0mcolors\u001b[0m\u001b[0;34m.\u001b[0m\u001b[0mshape\u001b[0m\u001b[0;34m[\u001b[0m\u001b[0;36m0\u001b[0m\u001b[0;34m]\u001b[0m\u001b[0;34m\u001b[0m\u001b[0;34m\u001b[0m\u001b[0m\n",
      "\u001b[0;32m~/conda/envs/python/lib/python3.6/site-packages/matplotlib/colors.py\u001b[0m in \u001b[0;36mto_rgba_array\u001b[0;34m(c, alpha)\u001b[0m\n\u001b[1;32m    293\u001b[0m     \u001b[0;32mfor\u001b[0m \u001b[0mi\u001b[0m\u001b[0;34m,\u001b[0m \u001b[0mcc\u001b[0m \u001b[0;32min\u001b[0m \u001b[0menumerate\u001b[0m\u001b[0;34m(\u001b[0m\u001b[0mc\u001b[0m\u001b[0;34m)\u001b[0m\u001b[0;34m:\u001b[0m\u001b[0;34m\u001b[0m\u001b[0;34m\u001b[0m\u001b[0m\n\u001b[0;32m--> 294\u001b[0;31m         \u001b[0mresult\u001b[0m\u001b[0;34m[\u001b[0m\u001b[0mi\u001b[0m\u001b[0;34m]\u001b[0m \u001b[0;34m=\u001b[0m \u001b[0mto_rgba\u001b[0m\u001b[0;34m(\u001b[0m\u001b[0mcc\u001b[0m\u001b[0;34m,\u001b[0m \u001b[0malpha\u001b[0m\u001b[0;34m)\u001b[0m\u001b[0;34m\u001b[0m\u001b[0;34m\u001b[0m\u001b[0m\n\u001b[0m\u001b[1;32m    295\u001b[0m     \u001b[0;32mreturn\u001b[0m \u001b[0mresult\u001b[0m\u001b[0;34m\u001b[0m\u001b[0;34m\u001b[0m\u001b[0m\n",
      "\u001b[0;32m~/conda/envs/python/lib/python3.6/site-packages/matplotlib/colors.py\u001b[0m in \u001b[0;36mto_rgba\u001b[0;34m(c, alpha)\u001b[0m\n\u001b[1;32m    176\u001b[0m     \u001b[0;32mif\u001b[0m \u001b[0mrgba\u001b[0m \u001b[0;32mis\u001b[0m \u001b[0;32mNone\u001b[0m\u001b[0;34m:\u001b[0m  \u001b[0;31m# Suppress exception chaining of cache lookup failure.\u001b[0m\u001b[0;34m\u001b[0m\u001b[0;34m\u001b[0m\u001b[0m\n\u001b[0;32m--> 177\u001b[0;31m         \u001b[0mrgba\u001b[0m \u001b[0;34m=\u001b[0m \u001b[0m_to_rgba_no_colorcycle\u001b[0m\u001b[0;34m(\u001b[0m\u001b[0mc\u001b[0m\u001b[0;34m,\u001b[0m \u001b[0malpha\u001b[0m\u001b[0;34m)\u001b[0m\u001b[0;34m\u001b[0m\u001b[0;34m\u001b[0m\u001b[0m\n\u001b[0m\u001b[1;32m    178\u001b[0m         \u001b[0;32mtry\u001b[0m\u001b[0;34m:\u001b[0m\u001b[0;34m\u001b[0m\u001b[0;34m\u001b[0m\u001b[0m\n",
      "\u001b[0;32m~/conda/envs/python/lib/python3.6/site-packages/matplotlib/colors.py\u001b[0m in \u001b[0;36m_to_rgba_no_colorcycle\u001b[0;34m(c, alpha)\u001b[0m\n\u001b[1;32m    232\u001b[0m             \u001b[0;32mpass\u001b[0m\u001b[0;34m\u001b[0m\u001b[0;34m\u001b[0m\u001b[0m\n\u001b[0;32m--> 233\u001b[0;31m         \u001b[0;32mraise\u001b[0m \u001b[0mValueError\u001b[0m\u001b[0;34m(\u001b[0m\u001b[0;34m\"Invalid RGBA argument: {!r}\"\u001b[0m\u001b[0;34m.\u001b[0m\u001b[0mformat\u001b[0m\u001b[0;34m(\u001b[0m\u001b[0morig_c\u001b[0m\u001b[0;34m)\u001b[0m\u001b[0;34m)\u001b[0m\u001b[0;34m\u001b[0m\u001b[0;34m\u001b[0m\u001b[0m\n\u001b[0m\u001b[1;32m    234\u001b[0m     \u001b[0;31m# tuple color.\u001b[0m\u001b[0;34m\u001b[0m\u001b[0;34m\u001b[0m\u001b[0;34m\u001b[0m\u001b[0m\n",
      "\u001b[0;31mValueError\u001b[0m: Invalid RGBA argument: 'AMS APEX/Desktop Software/Information Management'",
      "\nDuring handling of the above exception, another exception occurred:\n",
      "\u001b[0;31mValueError\u001b[0m                                Traceback (most recent call last)",
      "\u001b[0;32m<ipython-input-31-227c583c43a7>\u001b[0m in \u001b[0;36m<module>\u001b[0;34m\u001b[0m\n\u001b[1;32m      1\u001b[0m \u001b[0mplt\u001b[0m\u001b[0;34m.\u001b[0m\u001b[0msubplots\u001b[0m\u001b[0;34m(\u001b[0m\u001b[0mfigsize\u001b[0m \u001b[0;34m=\u001b[0m\u001b[0;34m(\u001b[0m\u001b[0;36m8\u001b[0m\u001b[0;34m,\u001b[0m\u001b[0;36m8\u001b[0m\u001b[0;34m)\u001b[0m\u001b[0;34m)\u001b[0m\u001b[0;34m\u001b[0m\u001b[0;34m\u001b[0m\u001b[0m\n\u001b[1;32m      2\u001b[0m \u001b[0mplt\u001b[0m\u001b[0;34m.\u001b[0m\u001b[0maxis\u001b[0m\u001b[0;34m(\u001b[0m\u001b[0;34m'equal'\u001b[0m\u001b[0;34m)\u001b[0m\u001b[0;34m;\u001b[0m\u001b[0;34m\u001b[0m\u001b[0;34m\u001b[0m\u001b[0m\n\u001b[0;32m----> 3\u001b[0;31m \u001b[0mplt\u001b[0m\u001b[0;34m.\u001b[0m\u001b[0mscatter\u001b[0m\u001b[0;34m(\u001b[0m\u001b[0mlda_df_isomap\u001b[0m\u001b[0;34m[\u001b[0m\u001b[0;36m0\u001b[0m\u001b[0;34m]\u001b[0m\u001b[0;34m,\u001b[0m\u001b[0mlda_df_isomap\u001b[0m\u001b[0;34m[\u001b[0m\u001b[0;36m1\u001b[0m\u001b[0;34m]\u001b[0m\u001b[0;34m,\u001b[0m \u001b[0mc\u001b[0m\u001b[0;34m=\u001b[0m\u001b[0mdbpedia_df\u001b[0m\u001b[0;34m[\u001b[0m\u001b[0;34m'Product Model'\u001b[0m\u001b[0;34m]\u001b[0m\u001b[0;34m,\u001b[0m \u001b[0mcmap\u001b[0m \u001b[0;34m=\u001b[0m \u001b[0mplt\u001b[0m\u001b[0;34m.\u001b[0m\u001b[0mcm\u001b[0m\u001b[0;34m.\u001b[0m\u001b[0mSpectral\u001b[0m\u001b[0;34m)\u001b[0m\u001b[0;34m\u001b[0m\u001b[0;34m\u001b[0m\u001b[0m\n\u001b[0m",
      "\u001b[0;32m~/conda/envs/python/lib/python3.6/site-packages/matplotlib/pyplot.py\u001b[0m in \u001b[0;36mscatter\u001b[0;34m(x, y, s, c, marker, cmap, norm, vmin, vmax, alpha, linewidths, verts, edgecolors, plotnonfinite, data, **kwargs)\u001b[0m\n\u001b[1;32m   2845\u001b[0m         \u001b[0mverts\u001b[0m\u001b[0;34m=\u001b[0m\u001b[0mverts\u001b[0m\u001b[0;34m,\u001b[0m \u001b[0medgecolors\u001b[0m\u001b[0;34m=\u001b[0m\u001b[0medgecolors\u001b[0m\u001b[0;34m,\u001b[0m\u001b[0;34m\u001b[0m\u001b[0;34m\u001b[0m\u001b[0m\n\u001b[1;32m   2846\u001b[0m         plotnonfinite=plotnonfinite, **({\"data\": data} if data is not\n\u001b[0;32m-> 2847\u001b[0;31m         None else {}), **kwargs)\n\u001b[0m\u001b[1;32m   2848\u001b[0m     \u001b[0msci\u001b[0m\u001b[0;34m(\u001b[0m\u001b[0m__ret\u001b[0m\u001b[0;34m)\u001b[0m\u001b[0;34m\u001b[0m\u001b[0;34m\u001b[0m\u001b[0m\n\u001b[1;32m   2849\u001b[0m     \u001b[0;32mreturn\u001b[0m \u001b[0m__ret\u001b[0m\u001b[0;34m\u001b[0m\u001b[0;34m\u001b[0m\u001b[0m\n",
      "\u001b[0;32m~/conda/envs/python/lib/python3.6/site-packages/matplotlib/__init__.py\u001b[0m in \u001b[0;36minner\u001b[0;34m(ax, data, *args, **kwargs)\u001b[0m\n\u001b[1;32m   1599\u001b[0m     \u001b[0;32mdef\u001b[0m \u001b[0minner\u001b[0m\u001b[0;34m(\u001b[0m\u001b[0max\u001b[0m\u001b[0;34m,\u001b[0m \u001b[0;34m*\u001b[0m\u001b[0margs\u001b[0m\u001b[0;34m,\u001b[0m \u001b[0mdata\u001b[0m\u001b[0;34m=\u001b[0m\u001b[0;32mNone\u001b[0m\u001b[0;34m,\u001b[0m \u001b[0;34m**\u001b[0m\u001b[0mkwargs\u001b[0m\u001b[0;34m)\u001b[0m\u001b[0;34m:\u001b[0m\u001b[0;34m\u001b[0m\u001b[0;34m\u001b[0m\u001b[0m\n\u001b[1;32m   1600\u001b[0m         \u001b[0;32mif\u001b[0m \u001b[0mdata\u001b[0m \u001b[0;32mis\u001b[0m \u001b[0;32mNone\u001b[0m\u001b[0;34m:\u001b[0m\u001b[0;34m\u001b[0m\u001b[0;34m\u001b[0m\u001b[0m\n\u001b[0;32m-> 1601\u001b[0;31m             \u001b[0;32mreturn\u001b[0m \u001b[0mfunc\u001b[0m\u001b[0;34m(\u001b[0m\u001b[0max\u001b[0m\u001b[0;34m,\u001b[0m \u001b[0;34m*\u001b[0m\u001b[0mmap\u001b[0m\u001b[0;34m(\u001b[0m\u001b[0msanitize_sequence\u001b[0m\u001b[0;34m,\u001b[0m \u001b[0margs\u001b[0m\u001b[0;34m)\u001b[0m\u001b[0;34m,\u001b[0m \u001b[0;34m**\u001b[0m\u001b[0mkwargs\u001b[0m\u001b[0;34m)\u001b[0m\u001b[0;34m\u001b[0m\u001b[0;34m\u001b[0m\u001b[0m\n\u001b[0m\u001b[1;32m   1602\u001b[0m \u001b[0;34m\u001b[0m\u001b[0m\n\u001b[1;32m   1603\u001b[0m         \u001b[0mbound\u001b[0m \u001b[0;34m=\u001b[0m \u001b[0mnew_sig\u001b[0m\u001b[0;34m.\u001b[0m\u001b[0mbind\u001b[0m\u001b[0;34m(\u001b[0m\u001b[0max\u001b[0m\u001b[0;34m,\u001b[0m \u001b[0;34m*\u001b[0m\u001b[0margs\u001b[0m\u001b[0;34m,\u001b[0m \u001b[0;34m**\u001b[0m\u001b[0mkwargs\u001b[0m\u001b[0;34m)\u001b[0m\u001b[0;34m\u001b[0m\u001b[0;34m\u001b[0m\u001b[0m\n",
      "\u001b[0;32m~/conda/envs/python/lib/python3.6/site-packages/matplotlib/axes/_axes.py\u001b[0m in \u001b[0;36mscatter\u001b[0;34m(self, x, y, s, c, marker, cmap, norm, vmin, vmax, alpha, linewidths, verts, edgecolors, plotnonfinite, **kwargs)\u001b[0m\n\u001b[1;32m   4452\u001b[0m             self._parse_scatter_color_args(\n\u001b[1;32m   4453\u001b[0m                 \u001b[0mc\u001b[0m\u001b[0;34m,\u001b[0m \u001b[0medgecolors\u001b[0m\u001b[0;34m,\u001b[0m \u001b[0mkwargs\u001b[0m\u001b[0;34m,\u001b[0m \u001b[0mxshape\u001b[0m\u001b[0;34m,\u001b[0m \u001b[0myshape\u001b[0m\u001b[0;34m,\u001b[0m\u001b[0;34m\u001b[0m\u001b[0;34m\u001b[0m\u001b[0m\n\u001b[0;32m-> 4454\u001b[0;31m                 get_next_color_func=self._get_patches_for_fill.get_next_color)\n\u001b[0m\u001b[1;32m   4455\u001b[0m \u001b[0;34m\u001b[0m\u001b[0m\n\u001b[1;32m   4456\u001b[0m         \u001b[0;32mif\u001b[0m \u001b[0mplotnonfinite\u001b[0m \u001b[0;32mand\u001b[0m \u001b[0mcolors\u001b[0m \u001b[0;32mis\u001b[0m \u001b[0;32mNone\u001b[0m\u001b[0;34m:\u001b[0m\u001b[0;34m\u001b[0m\u001b[0;34m\u001b[0m\u001b[0m\n",
      "\u001b[0;32m~/conda/envs/python/lib/python3.6/site-packages/matplotlib/axes/_axes.py\u001b[0m in \u001b[0;36m_parse_scatter_color_args\u001b[0;34m(c, edgecolors, kwargs, xshape, yshape, get_next_color_func)\u001b[0m\n\u001b[1;32m   4304\u001b[0m                         \u001b[0;34m\"'c' argument must be a mpl color, a sequence of mpl \"\u001b[0m\u001b[0;34m\u001b[0m\u001b[0;34m\u001b[0m\u001b[0m\n\u001b[1;32m   4305\u001b[0m                         \u001b[0;34m\"colors or a sequence of numbers, not {}.\"\u001b[0m\u001b[0;34m\u001b[0m\u001b[0;34m\u001b[0m\u001b[0m\n\u001b[0;32m-> 4306\u001b[0;31m                             \u001b[0;34m.\u001b[0m\u001b[0mformat\u001b[0m\u001b[0;34m(\u001b[0m\u001b[0mc\u001b[0m\u001b[0;34m)\u001b[0m  \u001b[0;31m# note: could be long depending on c\u001b[0m\u001b[0;34m\u001b[0m\u001b[0;34m\u001b[0m\u001b[0m\n\u001b[0m\u001b[1;32m   4307\u001b[0m                     )\n\u001b[1;32m   4308\u001b[0m         \u001b[0;32melse\u001b[0m\u001b[0;34m:\u001b[0m\u001b[0;34m\u001b[0m\u001b[0;34m\u001b[0m\u001b[0m\n",
      "\u001b[0;31mValueError\u001b[0m: 'c' argument must be a mpl color, a sequence of mpl colors or a sequence of numbers, not 0         AMS APEX/Desktop Software/Information Management\n1        AMS ActImpGuidance/Active Implement Guidance/G...\n2         AMS APEX/Desktop Software/Information Management\n3        Operations Center/Agriculture - Website/Inform...\n4                      GSC Web Form/Information Management\n                               ...                        \n46418    AMS ActImpGuidance/Active Implement Guidance/G...\n46419                  GSC Web Form/Information Management\n46420    AMS MyJohnDeere/Website-Dashboard/Information ...\n46421     AMS APEX/Desktop Software/Information Management\n46422                        AMS 4640/Generation 4/Display\nName: Product Model, Length: 46423, dtype: object."
     ]
    },
    {
     "data": {
      "image/png": "[encoded data removed]",
      "text/plain": [
       "<Figure size 576x576 with 1 Axes>"
      ]
     },
     "metadata": {
      "needs_background": "light"
     },
     "output_type": "display_data"
    }
   ],
   "source": [
    "plt.subplots(figsize =(8,8))\n",
    "plt.axis('equal');\n",
    "plt.scatter(lda_df_isomap[0],lda_df_isomap[1], c=dbpedia_df['Product Model'], cmap = plt.cm.Spectral)\n"
   ]
  },
  {
   "cell_type": "code",
   "execution_count": null,
   "metadata": {},
   "outputs": [],
   "source": [
    "plt.subplots(figsize =(8,8))\n",
    "plt.axis('equal');\n",
    "plt.scatter(lda_df_isomap[0],lda_df_isomap[1], c=dbpedia_df['Most_Likely_Topic'], cmap = plt.cm.Spectral)"
   ]
  },
  {
   "cell_type": "markdown",
   "metadata": {},
   "source": [
    "## TSNE"
   ]
  },
  {
   "cell_type": "code",
   "execution_count": 40,
   "metadata": {},
   "outputs": [],
   "source": [
    "from sklearn.manifold import TSNE\n",
    "tsne = TSNE(n_components =2,init= 'pca', random_state=0)"
   ]
  },
  {
   "cell_type": "markdown",
   "metadata": {},
   "source": [
    "### Using pyLDAvis"
   ]
  },
  {
   "cell_type": "code",
   "execution_count": 38,
   "metadata": {},
   "outputs": [
    {
     "name": "stdout",
     "output_type": "stream",
     "text": [
      "Collecting pyLDAvis\n",
      "\u001b[?25l  Downloading https://files.pythonhosted.org/packages/a5/3a/af82e070a8a96e13217c8f362f9a73e82d61ac8fff3a2561946a97f96266/pyLDAvis-2.1.2.tar.gz (1.6MB)\n",
      "\u001b[K     |████████████████████████████████| 1.6MB 10.7MB/s eta 0:00:01\n",
      "\u001b[?25hRequirement already satisfied: wheel>=0.23.0 in /home/jupyterlab/conda/envs/python/lib/python3.6/site-packages (from pyLDAvis) (0.33.6)\n",
      "Requirement already satisfied: numpy>=1.9.2 in /home/jupyterlab/conda/envs/python/lib/python3.6/site-packages (from pyLDAvis) (1.16.2)\n",
      "Requirement already satisfied: scipy>=0.18.0 in /home/jupyterlab/conda/envs/python/lib/python3.6/site-packages (from pyLDAvis) (1.2.1)\n",
      "Requirement already satisfied: pandas>=0.17.0 in /home/jupyterlab/conda/envs/python/lib/python3.6/site-packages (from pyLDAvis) (0.25.3)\n",
      "Collecting joblib>=0.8.4 (from pyLDAvis)\n",
      "\u001b[?25l  Downloading https://files.pythonhosted.org/packages/8f/42/155696f85f344c066e17af287359c9786b436b1bf86029bb3411283274f3/joblib-0.14.0-py2.py3-none-any.whl (294kB)\n",
      "\u001b[K     |████████████████████████████████| 296kB 30.5MB/s eta 0:00:01\n",
      "\u001b[?25hRequirement already satisfied: jinja2>=2.7.2 in /home/jupyterlab/conda/envs/python/lib/python3.6/site-packages (from pyLDAvis) (2.10.3)\n",
      "Collecting numexpr (from pyLDAvis)\n",
      "\u001b[?25l  Downloading https://files.pythonhosted.org/packages/06/5e/ee657b36ce1b6baabaafe485e97a31e7200f918c4b8643ebc4fd4fd07ada/numexpr-2.7.0-cp36-cp36m-manylinux1_x86_64.whl (162kB)\n",
      "\u001b[K     |████████████████████████████████| 163kB 37.5MB/s eta 0:00:01\n",
      "\u001b[?25hCollecting pytest (from pyLDAvis)\n",
      "\u001b[?25l  Downloading https://files.pythonhosted.org/packages/da/ed/d22d7f06eb1107271694ed2171b9d52e8eea38d9757124e75ba13324ac77/pytest-5.3.1-py3-none-any.whl (233kB)\n",
      "\u001b[K     |████████████████████████████████| 235kB 37.1MB/s eta 0:00:01\n",
      "\u001b[?25hCollecting future (from pyLDAvis)\n",
      "\u001b[?25l  Downloading https://files.pythonhosted.org/packages/45/0b/38b06fd9b92dc2b68d58b75f900e97884c45bedd2ff83203d933cf5851c9/future-0.18.2.tar.gz (829kB)\n",
      "\u001b[K     |████████████████████████████████| 829kB 36.1MB/s eta 0:00:01\n",
      "\u001b[?25hCollecting funcy (from pyLDAvis)\n",
      "\u001b[?25l  Downloading https://files.pythonhosted.org/packages/ce/4b/6ffa76544e46614123de31574ad95758c421aae391a1764921b8a81e1eae/funcy-1.14.tar.gz (548kB)\n",
      "\u001b[K     |████████████████████████████████| 552kB 30.5MB/s eta 0:00:01\n",
      "\u001b[?25hRequirement already satisfied: pytz>=2017.2 in /home/jupyterlab/conda/envs/python/lib/python3.6/site-packages (from pandas>=0.17.0->pyLDAvis) (2019.3)\n",
      "Requirement already satisfied: python-dateutil>=2.6.1 in /home/jupyterlab/conda/envs/python/lib/python3.6/site-packages (from pandas>=0.17.0->pyLDAvis) (2.8.1)\n",
      "Requirement already satisfied: MarkupSafe>=0.23 in /home/jupyterlab/conda/envs/python/lib/python3.6/site-packages (from jinja2>=2.7.2->pyLDAvis) (1.1.1)\n",
      "Requirement already satisfied: more-itertools>=4.0.0 in /home/jupyterlab/conda/envs/python/lib/python3.6/site-packages (from pytest->pyLDAvis) (7.2.0)\n",
      "Collecting pluggy<1.0,>=0.12 (from pytest->pyLDAvis)\n",
      "  Downloading https://files.pythonhosted.org/packages/a0/28/85c7aa31b80d150b772fbe4a229487bc6644da9ccb7e427dd8cc60cb8a62/pluggy-0.13.1-py2.py3-none-any.whl\n",
      "Collecting py>=1.5.0 (from pytest->pyLDAvis)\n",
      "\u001b[?25l  Downloading https://files.pythonhosted.org/packages/76/bc/394ad449851729244a97857ee14d7cba61ddb268dce3db538ba2f2ba1f0f/py-1.8.0-py2.py3-none-any.whl (83kB)\n",
      "\u001b[K     |████████████████████████████████| 92kB 20.6MB/s eta 0:00:01\n",
      "\u001b[?25hRequirement already satisfied: importlib-metadata>=0.12; python_version < \"3.8\" in /home/jupyterlab/conda/envs/python/lib/python3.6/site-packages (from pytest->pyLDAvis) (0.23)\n",
      "Requirement already satisfied: attrs>=17.4.0 in /home/jupyterlab/conda/envs/python/lib/python3.6/site-packages (from pytest->pyLDAvis) (19.3.0)\n",
      "Collecting packaging (from pytest->pyLDAvis)\n",
      "  Downloading https://files.pythonhosted.org/packages/cf/94/9672c2d4b126e74c4496c6b3c58a8b51d6419267be9e70660ba23374c875/packaging-19.2-py2.py3-none-any.whl\n",
      "Requirement already satisfied: wcwidth in /home/jupyterlab/conda/envs/python/lib/python3.6/site-packages (from pytest->pyLDAvis) (0.1.7)\n",
      "Requirement already satisfied: six>=1.5 in /home/jupyterlab/conda/envs/python/lib/python3.6/site-packages (from python-dateutil>=2.6.1->pandas>=0.17.0->pyLDAvis) (1.13.0)\n",
      "Requirement already satisfied: zipp>=0.5 in /home/jupyterlab/conda/envs/python/lib/python3.6/site-packages (from importlib-metadata>=0.12; python_version < \"3.8\"->pytest->pyLDAvis) (0.6.0)\n",
      "Requirement already satisfied: pyparsing>=2.0.2 in /home/jupyterlab/conda/envs/python/lib/python3.6/site-packages (from packaging->pytest->pyLDAvis) (2.4.5)\n",
      "Building wheels for collected packages: pyLDAvis, future, funcy\n",
      "  Building wheel for pyLDAvis (setup.py) ... \u001b[?25ldone\n",
      "\u001b[?25h  Stored in directory: /home/jupyterlab/.cache/pip/wheels/98/71/24/513a99e58bb6b8465bae4d2d5e9dba8f0bef8179e3051ac414\n",
      "  Building wheel for future (setup.py) ... \u001b[?25ldone\n",
      "\u001b[?25h  Stored in directory: /home/jupyterlab/.cache/pip/wheels/8b/99/a0/81daf51dcd359a9377b110a8a886b3895921802d2fc1b2397e\n",
      "  Building wheel for funcy (setup.py) ... \u001b[?25ldone\n",
      "\u001b[?25h  Stored in directory: /home/jupyterlab/.cache/pip/wheels/20/5a/d8/1d875df03deae6f178dfdf70238cca33f948ef8a6f5209f2eb\n",
      "Successfully built pyLDAvis future funcy\n",
      "Installing collected packages: joblib, numexpr, pluggy, py, packaging, pytest, future, funcy, pyLDAvis\n",
      "Successfully installed funcy-1.14 future-0.18.2 joblib-0.14.0 numexpr-2.7.0 packaging-19.2 pluggy-0.13.1 py-1.8.0 pyLDAvis-2.1.2 pytest-5.3.1\n"
     ]
    }
   ],
   "source": [
    "!pip install pyLDAvis\n",
    "import pyLDAvis.sklearn\n",
    "pyLDAvis.enable_notebook()"
   ]
  },
  {
   "cell_type": "code",
   "execution_count": 42,
   "metadata": {},
   "outputs": [
    {
     "ename": "TerminatedWorkerError",
     "evalue": "A worker process managed by the executor was unexpectedly terminated. This could be caused by a segmentation fault while calling the function or by an excessive memory usage causing the Operating System to kill the worker. The exit codes of the workers are {SIGKILL(-9)}",
     "output_type": "error",
     "traceback": [
      "\u001b[0;31m---------------------------------------------------------------------------\u001b[0m",
      "\u001b[0;31mTerminatedWorkerError\u001b[0m                     Traceback (most recent call last)",
      "\u001b[0;32m<ipython-input-42-796442c2ce7c>\u001b[0m in \u001b[0;36m<module>\u001b[0;34m\u001b[0m\n\u001b[0;32m----> 1\u001b[0;31m \u001b[0mpanel\u001b[0m \u001b[0;34m=\u001b[0m \u001b[0mpyLDAvis\u001b[0m\u001b[0;34m.\u001b[0m\u001b[0msklearn\u001b[0m\u001b[0;34m.\u001b[0m\u001b[0mprepare\u001b[0m\u001b[0;34m(\u001b[0m\u001b[0mlda_model\u001b[0m\u001b[0;34m,\u001b[0m \u001b[0mtransformed_vector\u001b[0m\u001b[0;34m,\u001b[0m \u001b[0mcount_vectorizer\u001b[0m\u001b[0;34m,\u001b[0m \u001b[0mmds\u001b[0m\u001b[0;34m=\u001b[0m\u001b[0;34m'tsne'\u001b[0m\u001b[0;34m)\u001b[0m\u001b[0;34m\u001b[0m\u001b[0;34m\u001b[0m\u001b[0m\n\u001b[0m\u001b[1;32m      2\u001b[0m \u001b[0mpanel\u001b[0m\u001b[0;34m\u001b[0m\u001b[0;34m\u001b[0m\u001b[0m\n",
      "\u001b[0;32m~/conda/envs/python/lib/python3.6/site-packages/pyLDAvis/sklearn.py\u001b[0m in \u001b[0;36mprepare\u001b[0;34m(lda_model, dtm, vectorizer, **kwargs)\u001b[0m\n\u001b[1;32m     93\u001b[0m     \"\"\"\n\u001b[1;32m     94\u001b[0m     \u001b[0mopts\u001b[0m \u001b[0;34m=\u001b[0m \u001b[0mfp\u001b[0m\u001b[0;34m.\u001b[0m\u001b[0mmerge\u001b[0m\u001b[0;34m(\u001b[0m\u001b[0m_extract_data\u001b[0m\u001b[0;34m(\u001b[0m\u001b[0mlda_model\u001b[0m\u001b[0;34m,\u001b[0m \u001b[0mdtm\u001b[0m\u001b[0;34m,\u001b[0m \u001b[0mvectorizer\u001b[0m\u001b[0;34m)\u001b[0m\u001b[0;34m,\u001b[0m \u001b[0mkwargs\u001b[0m\u001b[0;34m)\u001b[0m\u001b[0;34m\u001b[0m\u001b[0;34m\u001b[0m\u001b[0m\n\u001b[0;32m---> 95\u001b[0;31m     \u001b[0;32mreturn\u001b[0m \u001b[0mpyLDAvis\u001b[0m\u001b[0;34m.\u001b[0m\u001b[0mprepare\u001b[0m\u001b[0;34m(\u001b[0m\u001b[0;34m**\u001b[0m\u001b[0mopts\u001b[0m\u001b[0;34m)\u001b[0m\u001b[0;34m\u001b[0m\u001b[0;34m\u001b[0m\u001b[0m\n\u001b[0m",
      "\u001b[0;32m~/conda/envs/python/lib/python3.6/site-packages/pyLDAvis/_prepare.py\u001b[0m in \u001b[0;36mprepare\u001b[0;34m(topic_term_dists, doc_topic_dists, doc_lengths, vocab, term_frequency, R, lambda_step, mds, n_jobs, plot_opts, sort_topics)\u001b[0m\n\u001b[1;32m    396\u001b[0m    \u001b[0mterm_frequency\u001b[0m \u001b[0;34m=\u001b[0m \u001b[0mnp\u001b[0m\u001b[0;34m.\u001b[0m\u001b[0msum\u001b[0m\u001b[0;34m(\u001b[0m\u001b[0mterm_topic_freq\u001b[0m\u001b[0;34m,\u001b[0m \u001b[0maxis\u001b[0m\u001b[0;34m=\u001b[0m\u001b[0;36m0\u001b[0m\u001b[0;34m)\u001b[0m\u001b[0;34m\u001b[0m\u001b[0;34m\u001b[0m\u001b[0m\n\u001b[1;32m    397\u001b[0m \u001b[0;34m\u001b[0m\u001b[0m\n\u001b[0;32m--> 398\u001b[0;31m    \u001b[0mtopic_info\u001b[0m         \u001b[0;34m=\u001b[0m \u001b[0m_topic_info\u001b[0m\u001b[0;34m(\u001b[0m\u001b[0mtopic_term_dists\u001b[0m\u001b[0;34m,\u001b[0m \u001b[0mtopic_proportion\u001b[0m\u001b[0;34m,\u001b[0m \u001b[0mterm_frequency\u001b[0m\u001b[0;34m,\u001b[0m \u001b[0mterm_topic_freq\u001b[0m\u001b[0;34m,\u001b[0m \u001b[0mvocab\u001b[0m\u001b[0;34m,\u001b[0m \u001b[0mlambda_step\u001b[0m\u001b[0;34m,\u001b[0m \u001b[0mR\u001b[0m\u001b[0;34m,\u001b[0m \u001b[0mn_jobs\u001b[0m\u001b[0;34m)\u001b[0m\u001b[0;34m\u001b[0m\u001b[0;34m\u001b[0m\u001b[0m\n\u001b[0m\u001b[1;32m    399\u001b[0m    \u001b[0mtoken_table\u001b[0m        \u001b[0;34m=\u001b[0m \u001b[0m_token_table\u001b[0m\u001b[0;34m(\u001b[0m\u001b[0mtopic_info\u001b[0m\u001b[0;34m,\u001b[0m \u001b[0mterm_topic_freq\u001b[0m\u001b[0;34m,\u001b[0m \u001b[0mvocab\u001b[0m\u001b[0;34m,\u001b[0m \u001b[0mterm_frequency\u001b[0m\u001b[0;34m)\u001b[0m\u001b[0;34m\u001b[0m\u001b[0;34m\u001b[0m\u001b[0m\n\u001b[1;32m    400\u001b[0m    \u001b[0mtopic_coordinates\u001b[0m \u001b[0;34m=\u001b[0m \u001b[0m_topic_coordinates\u001b[0m\u001b[0;34m(\u001b[0m\u001b[0mmds\u001b[0m\u001b[0;34m,\u001b[0m \u001b[0mtopic_term_dists\u001b[0m\u001b[0;34m,\u001b[0m \u001b[0mtopic_proportion\u001b[0m\u001b[0;34m)\u001b[0m\u001b[0;34m\u001b[0m\u001b[0;34m\u001b[0m\u001b[0m\n",
      "\u001b[0;32m~/conda/envs/python/lib/python3.6/site-packages/pyLDAvis/_prepare.py\u001b[0m in \u001b[0;36m_topic_info\u001b[0;34m(topic_term_dists, topic_proportion, term_frequency, term_topic_freq, vocab, lambda_step, R, n_jobs)\u001b[0m\n\u001b[1;32m    253\u001b[0m \u001b[0;34m\u001b[0m\u001b[0m\n\u001b[1;32m    254\u001b[0m    top_terms = pd.concat(Parallel(n_jobs=n_jobs)(delayed(_find_relevance_chunks)(log_ttd, log_lift, R, ls) \\\n\u001b[0;32m--> 255\u001b[0;31m                                                  for ls in _job_chunks(lambda_seq, n_jobs)))\n\u001b[0m\u001b[1;32m    256\u001b[0m    \u001b[0mtopic_dfs\u001b[0m \u001b[0;34m=\u001b[0m \u001b[0mmap\u001b[0m\u001b[0;34m(\u001b[0m\u001b[0mtopic_top_term_df\u001b[0m\u001b[0;34m,\u001b[0m \u001b[0menumerate\u001b[0m\u001b[0;34m(\u001b[0m\u001b[0mtop_terms\u001b[0m\u001b[0;34m.\u001b[0m\u001b[0mT\u001b[0m\u001b[0;34m.\u001b[0m\u001b[0miterrows\u001b[0m\u001b[0;34m(\u001b[0m\u001b[0;34m)\u001b[0m\u001b[0;34m,\u001b[0m \u001b[0;36m1\u001b[0m\u001b[0;34m)\u001b[0m\u001b[0;34m)\u001b[0m\u001b[0;34m\u001b[0m\u001b[0;34m\u001b[0m\u001b[0m\n\u001b[1;32m    257\u001b[0m    \u001b[0;32mreturn\u001b[0m \u001b[0mpd\u001b[0m\u001b[0;34m.\u001b[0m\u001b[0mconcat\u001b[0m\u001b[0;34m(\u001b[0m\u001b[0;34m[\u001b[0m\u001b[0mdefault_term_info\u001b[0m\u001b[0;34m]\u001b[0m \u001b[0;34m+\u001b[0m \u001b[0mlist\u001b[0m\u001b[0;34m(\u001b[0m\u001b[0mtopic_dfs\u001b[0m\u001b[0;34m)\u001b[0m\u001b[0;34m)\u001b[0m\u001b[0;34m\u001b[0m\u001b[0;34m\u001b[0m\u001b[0m\n",
      "\u001b[0;32m~/conda/envs/python/lib/python3.6/site-packages/joblib/parallel.py\u001b[0m in \u001b[0;36m__call__\u001b[0;34m(self, iterable)\u001b[0m\n\u001b[1;32m   1014\u001b[0m \u001b[0;34m\u001b[0m\u001b[0m\n\u001b[1;32m   1015\u001b[0m             \u001b[0;32mwith\u001b[0m \u001b[0mself\u001b[0m\u001b[0;34m.\u001b[0m\u001b[0m_backend\u001b[0m\u001b[0;34m.\u001b[0m\u001b[0mretrieval_context\u001b[0m\u001b[0;34m(\u001b[0m\u001b[0;34m)\u001b[0m\u001b[0;34m:\u001b[0m\u001b[0;34m\u001b[0m\u001b[0;34m\u001b[0m\u001b[0m\n\u001b[0;32m-> 1016\u001b[0;31m                 \u001b[0mself\u001b[0m\u001b[0;34m.\u001b[0m\u001b[0mretrieve\u001b[0m\u001b[0;34m(\u001b[0m\u001b[0;34m)\u001b[0m\u001b[0;34m\u001b[0m\u001b[0;34m\u001b[0m\u001b[0m\n\u001b[0m\u001b[1;32m   1017\u001b[0m             \u001b[0;31m# Make sure that we get a last message telling us we are done\u001b[0m\u001b[0;34m\u001b[0m\u001b[0;34m\u001b[0m\u001b[0;34m\u001b[0m\u001b[0m\n\u001b[1;32m   1018\u001b[0m             \u001b[0melapsed_time\u001b[0m \u001b[0;34m=\u001b[0m \u001b[0mtime\u001b[0m\u001b[0;34m.\u001b[0m\u001b[0mtime\u001b[0m\u001b[0;34m(\u001b[0m\u001b[0;34m)\u001b[0m \u001b[0;34m-\u001b[0m \u001b[0mself\u001b[0m\u001b[0;34m.\u001b[0m\u001b[0m_start_time\u001b[0m\u001b[0;34m\u001b[0m\u001b[0;34m\u001b[0m\u001b[0m\n",
      "\u001b[0;32m~/conda/envs/python/lib/python3.6/site-packages/joblib/parallel.py\u001b[0m in \u001b[0;36mretrieve\u001b[0;34m(self)\u001b[0m\n\u001b[1;32m    906\u001b[0m             \u001b[0;32mtry\u001b[0m\u001b[0;34m:\u001b[0m\u001b[0;34m\u001b[0m\u001b[0;34m\u001b[0m\u001b[0m\n\u001b[1;32m    907\u001b[0m                 \u001b[0;32mif\u001b[0m \u001b[0mgetattr\u001b[0m\u001b[0;34m(\u001b[0m\u001b[0mself\u001b[0m\u001b[0;34m.\u001b[0m\u001b[0m_backend\u001b[0m\u001b[0;34m,\u001b[0m \u001b[0;34m'supports_timeout'\u001b[0m\u001b[0;34m,\u001b[0m \u001b[0;32mFalse\u001b[0m\u001b[0;34m)\u001b[0m\u001b[0;34m:\u001b[0m\u001b[0;34m\u001b[0m\u001b[0;34m\u001b[0m\u001b[0m\n\u001b[0;32m--> 908\u001b[0;31m                     \u001b[0mself\u001b[0m\u001b[0;34m.\u001b[0m\u001b[0m_output\u001b[0m\u001b[0;34m.\u001b[0m\u001b[0mextend\u001b[0m\u001b[0;34m(\u001b[0m\u001b[0mjob\u001b[0m\u001b[0;34m.\u001b[0m\u001b[0mget\u001b[0m\u001b[0;34m(\u001b[0m\u001b[0mtimeout\u001b[0m\u001b[0;34m=\u001b[0m\u001b[0mself\u001b[0m\u001b[0;34m.\u001b[0m\u001b[0mtimeout\u001b[0m\u001b[0;34m)\u001b[0m\u001b[0;34m)\u001b[0m\u001b[0;34m\u001b[0m\u001b[0;34m\u001b[0m\u001b[0m\n\u001b[0m\u001b[1;32m    909\u001b[0m                 \u001b[0;32melse\u001b[0m\u001b[0;34m:\u001b[0m\u001b[0;34m\u001b[0m\u001b[0;34m\u001b[0m\u001b[0m\n\u001b[1;32m    910\u001b[0m                     \u001b[0mself\u001b[0m\u001b[0;34m.\u001b[0m\u001b[0m_output\u001b[0m\u001b[0;34m.\u001b[0m\u001b[0mextend\u001b[0m\u001b[0;34m(\u001b[0m\u001b[0mjob\u001b[0m\u001b[0;34m.\u001b[0m\u001b[0mget\u001b[0m\u001b[0;34m(\u001b[0m\u001b[0;34m)\u001b[0m\u001b[0;34m)\u001b[0m\u001b[0;34m\u001b[0m\u001b[0;34m\u001b[0m\u001b[0m\n",
      "\u001b[0;32m~/conda/envs/python/lib/python3.6/site-packages/joblib/_parallel_backends.py\u001b[0m in \u001b[0;36mwrap_future_result\u001b[0;34m(future, timeout)\u001b[0m\n\u001b[1;32m    552\u001b[0m         AsyncResults.get from multiprocessing.\"\"\"\n\u001b[1;32m    553\u001b[0m         \u001b[0;32mtry\u001b[0m\u001b[0;34m:\u001b[0m\u001b[0;34m\u001b[0m\u001b[0;34m\u001b[0m\u001b[0m\n\u001b[0;32m--> 554\u001b[0;31m             \u001b[0;32mreturn\u001b[0m \u001b[0mfuture\u001b[0m\u001b[0;34m.\u001b[0m\u001b[0mresult\u001b[0m\u001b[0;34m(\u001b[0m\u001b[0mtimeout\u001b[0m\u001b[0;34m=\u001b[0m\u001b[0mtimeout\u001b[0m\u001b[0;34m)\u001b[0m\u001b[0;34m\u001b[0m\u001b[0;34m\u001b[0m\u001b[0m\n\u001b[0m\u001b[1;32m    555\u001b[0m         \u001b[0;32mexcept\u001b[0m \u001b[0mLokyTimeoutError\u001b[0m\u001b[0;34m:\u001b[0m\u001b[0;34m\u001b[0m\u001b[0;34m\u001b[0m\u001b[0m\n\u001b[1;32m    556\u001b[0m             \u001b[0;32mraise\u001b[0m \u001b[0mTimeoutError\u001b[0m\u001b[0;34m(\u001b[0m\u001b[0;34m)\u001b[0m\u001b[0;34m\u001b[0m\u001b[0;34m\u001b[0m\u001b[0m\n",
      "\u001b[0;32m~/conda/envs/python/lib/python3.6/concurrent/futures/_base.py\u001b[0m in \u001b[0;36mresult\u001b[0;34m(self, timeout)\u001b[0m\n\u001b[1;32m    430\u001b[0m                 \u001b[0;32mraise\u001b[0m \u001b[0mCancelledError\u001b[0m\u001b[0;34m(\u001b[0m\u001b[0;34m)\u001b[0m\u001b[0;34m\u001b[0m\u001b[0;34m\u001b[0m\u001b[0m\n\u001b[1;32m    431\u001b[0m             \u001b[0;32melif\u001b[0m \u001b[0mself\u001b[0m\u001b[0;34m.\u001b[0m\u001b[0m_state\u001b[0m \u001b[0;34m==\u001b[0m \u001b[0mFINISHED\u001b[0m\u001b[0;34m:\u001b[0m\u001b[0;34m\u001b[0m\u001b[0;34m\u001b[0m\u001b[0m\n\u001b[0;32m--> 432\u001b[0;31m                 \u001b[0;32mreturn\u001b[0m \u001b[0mself\u001b[0m\u001b[0;34m.\u001b[0m\u001b[0m__get_result\u001b[0m\u001b[0;34m(\u001b[0m\u001b[0;34m)\u001b[0m\u001b[0;34m\u001b[0m\u001b[0;34m\u001b[0m\u001b[0m\n\u001b[0m\u001b[1;32m    433\u001b[0m             \u001b[0;32melse\u001b[0m\u001b[0;34m:\u001b[0m\u001b[0;34m\u001b[0m\u001b[0;34m\u001b[0m\u001b[0m\n\u001b[1;32m    434\u001b[0m                 \u001b[0;32mraise\u001b[0m \u001b[0mTimeoutError\u001b[0m\u001b[0;34m(\u001b[0m\u001b[0;34m)\u001b[0m\u001b[0;34m\u001b[0m\u001b[0;34m\u001b[0m\u001b[0m\n",
      "\u001b[0;32m~/conda/envs/python/lib/python3.6/concurrent/futures/_base.py\u001b[0m in \u001b[0;36m__get_result\u001b[0;34m(self)\u001b[0m\n\u001b[1;32m    382\u001b[0m     \u001b[0;32mdef\u001b[0m \u001b[0m__get_result\u001b[0m\u001b[0;34m(\u001b[0m\u001b[0mself\u001b[0m\u001b[0;34m)\u001b[0m\u001b[0;34m:\u001b[0m\u001b[0;34m\u001b[0m\u001b[0;34m\u001b[0m\u001b[0m\n\u001b[1;32m    383\u001b[0m         \u001b[0;32mif\u001b[0m \u001b[0mself\u001b[0m\u001b[0;34m.\u001b[0m\u001b[0m_exception\u001b[0m\u001b[0;34m:\u001b[0m\u001b[0;34m\u001b[0m\u001b[0;34m\u001b[0m\u001b[0m\n\u001b[0;32m--> 384\u001b[0;31m             \u001b[0;32mraise\u001b[0m \u001b[0mself\u001b[0m\u001b[0;34m.\u001b[0m\u001b[0m_exception\u001b[0m\u001b[0;34m\u001b[0m\u001b[0;34m\u001b[0m\u001b[0m\n\u001b[0m\u001b[1;32m    385\u001b[0m         \u001b[0;32melse\u001b[0m\u001b[0;34m:\u001b[0m\u001b[0;34m\u001b[0m\u001b[0;34m\u001b[0m\u001b[0m\n\u001b[1;32m    386\u001b[0m             \u001b[0;32mreturn\u001b[0m \u001b[0mself\u001b[0m\u001b[0;34m.\u001b[0m\u001b[0m_result\u001b[0m\u001b[0;34m\u001b[0m\u001b[0;34m\u001b[0m\u001b[0m\n",
      "\u001b[0;31mTerminatedWorkerError\u001b[0m: A worker process managed by the executor was unexpectedly terminated. This could be caused by a segmentation fault while calling the function or by an excessive memory usage causing the Operating System to kill the worker. The exit codes of the workers are {SIGKILL(-9)}"
     ]
    }
   ],
   "source": [
    "panel = pyLDAvis.sklearn.prepare(lda_model, transformed_vector, count_vectorizer, mds='tsne')\n",
    "panel"
   ]
  },
  {
   "cell_type": "code",
   "execution_count": null,
   "metadata": {},
   "outputs": [],
   "source": []
  }
 ],
 "metadata": {
  "kernelspec": {
   "display_name": "Python",
   "language": "python",
   "name": "conda-env-python-py"
  },
  "language_info": {
   "codemirror_mode": {
    "name": "ipython",
    "version": 3
   },
   "file_extension": ".py",
   "mimetype": "text/x-python",
   "name": "python",
   "nbconvert_exporter": "python",
   "pygments_lexer": "ipython3",
   "version": "3.6.7"
  }
 },
 "nbformat": 4,
 "nbformat_minor": 4
}
